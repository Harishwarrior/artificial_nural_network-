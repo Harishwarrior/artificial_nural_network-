{
<<<<<<< HEAD
=======
  "nbformat": 4,
  "nbformat_minor": 0,
  "metadata": {
    "colab": {
      "name": "work.ipynb",
      "provenance": [],
      "mount_file_id": "",
      "authorship_tag": "",
      "include_colab_link": true
    },
    "kernelspec": {
      "name": "python3",
      "display_name": "Python 3"
    },
    "accelerator": "GPU"
  },
>>>>>>> e08162e811b921090bb744f06acba950103950ce
  "cells": [
    {
      "cell_type": "markdown",
      "metadata": {
        "id": "TkFoYth6EKfY",
        "colab_type": "text"
      },
      "source": [
        "To creating a Convolution Nural Network"
      ]
    },
    {
      "cell_type": "code",
      "metadata": {
        "id": "blvebtFDj5gh",
        "colab_type": "code",
        "colab": {}
      },
      "source": [
        "import keras\n",
        "import numpy as np\n",
        "import matplotlib.pyplot as plt\n",
<<<<<<< HEAD
        "from PIL import Image\n",
        "import os"
      ],
      "execution_count": null,
=======
        "from PIL import Image"
      ],
      "execution_count": 0,
>>>>>>> e08162e811b921090bb744f06acba950103950ce
      "outputs": []
    },
    {
      "cell_type": "markdown",
      "metadata": {
<<<<<<< HEAD
        "id": "1fNZu1TIBJbv",
        "colab_type": "text"
      },
      "source": [
        "Save the image set in drive/My Drive/project/Camera Roll within a folder with the name of class"
      ]
=======
        "id": "YFs5DYZh5GoJ",
        "colab_type": "code",
        "colab": {}
      },
      "source": [
        "model = keras.applications.vgg16.VGG16()"
      ],
      "execution_count": 0,
      "outputs": []
    },
    {
      "cell_type": "code",
      "metadata": {
        "id": "Xxig1KMo5cdm",
        "colab_type": "code",
        "colab": {}
      },
      "source": [
        "model.summary()"
      ],
      "execution_count": 0,
      "outputs": []
>>>>>>> e08162e811b921090bb744f06acba950103950ce
    },
    {
      "cell_type": "code",
      "metadata": {
        "id": "HqeHBnqGk05e",
        "colab_type": "code",
        "colab": {}
      },
      "source": [
        "!ls\n",
        "%cd drive/My\\ Drive/project/Camera\\ Roll/"
      ],
      "execution_count": null,
      "outputs": []
    },
    {
      "cell_type": "code",
      "metadata": {
        "id": "TxkXtdJSk56g",
        "colab_type": "code",
        "colab": {}
      },
      "source": [
        "!ls"
      ],
      "execution_count": null,
      "outputs": []
    },
    {
      "cell_type": "markdown",
      "metadata": {
<<<<<<< HEAD
        "id": "-cWFAHlyAvxn",
        "colab_type": "text"
      },
      "source": [
        "Give the names of image sets given as name of folders"
      ]
=======
        "id": "UKA3uEMmAwvd",
        "colab_type": "code",
        "colab": {}
      },
      "source": [
        "model_1._layers.pop()"
      ],
      "execution_count": 0,
      "outputs": []
>>>>>>> e08162e811b921090bb744f06acba950103950ce
    },
    {
      "cell_type": "code",
      "metadata": {
<<<<<<< HEAD
        "id": "JMOJH_uCAlRP",
=======
        "id": "jnvG50QQ7xsl",
>>>>>>> e08162e811b921090bb744f06acba950103950ce
        "colab_type": "code",
        "colab": {}
      },
      "source": [
<<<<<<< HEAD
        "classes = []"
      ],
      "execution_count": null,
=======
        "model_1.summary()"
      ],
      "execution_count": 0,
>>>>>>> e08162e811b921090bb744f06acba950103950ce
      "outputs": []
    },
    {
      "cell_type": "code",
      "metadata": {
<<<<<<< HEAD
        "id": "TkTb5_SPB3ee",
=======
        "id": "ivRk7OV38fa2",
>>>>>>> e08162e811b921090bb744f06acba950103950ce
        "colab_type": "code",
        "colab": {}
      },
      "source": [
<<<<<<< HEAD
        "for cl in classes:\n",
        "  img_path = os.path.join(base_dir, cl)\n",
        "  images = glob.glob(img_path + '/*.jpg')\n",
        "  print(\"{}: {} Images\".format(cl, len(images)))\n",
        "  num_train = int(round(len(images)*0.8))\n",
        "  train, val = images[:num_train], images[num_train:]\n",
        "\n",
        "  for t in train:\n",
        "    if not os.path.exists(os.path.join(base_dir, 'train', cl)):\n",
        "      os.makedirs(os.path.join(base_dir, 'train', cl))\n",
        "    shutil.move(t, os.path.join(base_dir, 'train', cl))\n",
        "\n",
        "  for v in val:\n",
        "    if not os.path.exists(os.path.join(base_dir, 'val', cl)):\n",
        "      os.makedirs(os.path.join(base_dir, 'val', cl))\n",
        "    shutil.move(v, os.path.join(base_dir, 'val', cl))"
      ],
      "execution_count": null,
=======
        "model_1.add(keras.layers.Dense(2,activation=\"softmax\"))"
      ],
      "execution_count": 0,
      "outputs": []
    },
    {
      "cell_type": "code",
      "metadata": {
        "id": "nci81CVnAP9F",
        "colab_type": "code",
        "colab": {}
      },
      "source": [
        "model_1.summary()"
      ],
      "execution_count": 0,
>>>>>>> e08162e811b921090bb744f06acba950103950ce
      "outputs": []
    },
    {
      "cell_type": "code",
      "metadata": {
        "id": "hZiyUfP1k6wb",
        "colab_type": "code",
        "colab": {}
      },
      "source": [
        "train_dir='train'\n",
        "test_dir='validate'\n",
        "BATCH_SIZE=100\n",
        "IMG_SHAPE  = 224"
      ],
      "execution_count": null,
      "outputs": []
    },
    {
      "cell_type": "code",
      "metadata": {
        "id": "DWoIAcq8k88z",
        "colab_type": "code",
        "colab": {}
      },
      "source": [
        "image_gen = keras.preprocessing.image.ImageDataGenerator(rescale=1./255,\n",
        "                                                         horizontal_flip=True,\n",
        "                                                         rotation_range=45,\n",
        "                                                         width_shift_range=.15,\n",
        "                                                         height_shift_range=.15,\n",
        "                                                         zoom_range=0.5)\n",
        "\n",
        "train_data_gen = image_gen.flow_from_directory(batch_size=BATCH_SIZE,\n",
        "                                               directory=train_dir,\n",
        "                                               shuffle=True,\n",
        "                                               target_size=(IMG_SHAPE,IMG_SHAPE),\n",
        "                                               class_mode='sparse')"
      ],
<<<<<<< HEAD
      "execution_count": null,
=======
      "execution_count": 0,
>>>>>>> e08162e811b921090bb744f06acba950103950ce
      "outputs": []
    },
    {
      "cell_type": "code",
      "metadata": {
        "id": "w8ChJQqfk_p2",
        "colab_type": "code",
        "colab": {}
      },
      "source": [
        "image_gen_val = keras.preprocessing.image.ImageDataGenerator(rescale=1./255)\n",
        "\n",
        "validate_data_gen=image_gen.flow_from_directory(batch_size=BATCH_SIZE,\n",
        "                                                directory=test_dir,\n",
        "                                                shuffle=True,\n",
        "                                                target_size=(IMG_SHAPE,IMG_SHAPE),\n",
        "                                                class_mode='sparse')"
      ],
<<<<<<< HEAD
      "execution_count": null,
      "outputs": []
    },
    {
      "cell_type": "markdown",
      "metadata": {
        "id": "h5tvfJDGCEsh",
        "colab_type": "text"
      },
      "source": [
        "Give the number of images in training and validation sets"
      ]
=======
      "execution_count": 0,
      "outputs": []
>>>>>>> e08162e811b921090bb744f06acba950103950ce
    },
    {
      "cell_type": "code",
      "metadata": {
        "id": "RI-F8VKNoZex",
        "colab_type": "code",
        "colab": {}
      },
      "source": [
<<<<<<< HEAD
        "total_train=10\n",
        "total_validate=4"
=======
        "train_dir='train'\n",
        "test_dir='validate'\n",
        "BATCH_SIZE=100\n",
        "IMG_SHAPE  = 224"
>>>>>>> e08162e811b921090bb744f06acba950103950ce
      ],
      "execution_count": null,
      "outputs": []
    },
    {
      "cell_type": "code",
      "metadata": {
        "id": "WRHTzaO57jt4",
        "colab_type": "code",
        "colab": {}
      },
      "source": [
<<<<<<< HEAD
        "model_2 = keras.models.Sequential()\n",
        "\n",
        "model_2.add(keras.layers.Conv2D(16, 3, padding='same', activation='relu', input_shape=(IMG_SHAPE,IMG_SHAPE, 3)))\n",
        "model_2.add(keras.layers.MaxPooling2D(pool_size=(2, 2)))\n",
        "\n",
        "model_2.add(keras.layers.Conv2D(32, 3, padding='same', activation='relu'))\n",
        "model_2.add(keras.layers.MaxPooling2D(pool_size=(2, 2)))\n",
        "\n",
        "model_2.add(keras.layers.Conv2D(64, 3, padding='same', activation='relu'))\n",
        "model_2.add(keras.layers.MaxPooling2D(pool_size=(2, 2)))\n",
        "\n",
        "model_2.add(keras.layers.Flatten())\n",
        "model_2.add(keras.layers.Dropout(0.2))\n",
        "model_2.add(keras.layers.Dense(512, activation='relu'))\n",
        "\n",
        "model_2.add(keras.layers.Dropout(0.2))\n",
        "model_2.add(keras.layers.Dense(2))"
      ],
      "execution_count": null,
=======
        "image_gen = keras.preprocessing.image.ImageDataGenerator(rescale=1./255,\n",
        "                                                         horizontal_flip=True,\n",
        "                                                         rotation_range=45,\n",
        "                                                         width_shift_range=.15,\n",
        "                                                         height_shift_range=.15,\n",
        "                                                         zoom_range=0.5)\n",
        "\n",
        "train_data_gen = image_gen.flow_from_directory(batch_size=BATCH_SIZE,\n",
        "                                               directory=train_dir,\n",
        "                                               shuffle=True,\n",
        "                                               target_size=(IMG_SHAPE,IMG_SHAPE))"
      ],
      "execution_count": 0,
>>>>>>> e08162e811b921090bb744f06acba950103950ce
      "outputs": []
    },
    {
      "cell_type": "code",
      "metadata": {
        "id": "JZl-L1Dz8QIK",
        "colab_type": "code",
        "colab": {}
      },
      "source": [
<<<<<<< HEAD
        "model_2.compile(optimizer='adam',\n",
        "              loss=keras.losses.SparseCategoricalCrossentropy(from_logits=True),\n",
        "              metrics=['accuracy'])"
      ],
      "execution_count": null,
=======
        "image_gen_val = keras.preprocessing.image.ImageDataGenerator(rescale=1./255)\n",
        "\n",
        "validate_data_gen=image_gen.flow_from_directory(batch_size=BATCH_SIZE,\n",
        "                                                directory=test_dir,\n",
        "                                                shuffle=True,\n",
        "                                                target_size=(IMG_SHAPE,IMG_SHAPE))"
      ],
      "execution_count": 0,
      "outputs": []
    },
    {
      "cell_type": "code",
      "metadata": {
        "id": "dJZZeOpxKvJJ",
        "colab_type": "code",
        "colab": {}
      },
      "source": [
        "total_train=7\n",
        "total_valid=3"
      ],
      "execution_count": 0,
>>>>>>> e08162e811b921090bb744f06acba950103950ce
      "outputs": []
    },
    {
      "cell_type": "code",
      "metadata": {
        "id": "J97-LPIilC1e",
        "colab_type": "code",
        "colab": {}
      },
      "source": [
        "epochs=20\n",
        "history = model_2.fit_generator(\n",
        "    train_data_gen,\n",
        "    steps_per_epoch=int(np.ceil(total_train / float(BATCH_SIZE))),\n",
        "    epochs=epochs,\n",
        "    validation_data=validate_data_gen,\n",
<<<<<<< HEAD
        "    validation_steps=int(np.ceil(total_validate / float(BATCH_SIZE)))\n",
        ")"
      ],
      "execution_count": null,
=======
        "    validation_steps=int(np.ceil(total_valid / float(BATCH_SIZE)))\n",
        ")"
      ],
      "execution_count": 0,
>>>>>>> e08162e811b921090bb744f06acba950103950ce
      "outputs": []
    },
    {
      "cell_type": "code",
      "metadata": {
        "id": "DUZyhwXhlJKY",
        "colab_type": "code",
        "colab": {}
      },
      "source": [
        "acc = history.history['accuracy']\n",
        "val_acc = history.history['val_accuracy']\n",
        "\n",
        "loss = history.history['loss']\n",
        "val_loss = history.history['val_loss']\n",
        "\n",
        "epochs_range = range(epochs)\n",
        "\n",
        "plt.figure(figsize=(8, 8))\n",
        "plt.subplot(1, 2, 1)\n",
        "plt.plot(epochs_range, acc, label='Training Accuracy')\n",
        "plt.plot(epochs_range, val_acc, label='Validation Accuracy')\n",
        "plt.legend(loc='lower right')\n",
        "plt.title('Training and Validation Accuracy')\n",
        "\n",
        "plt.subplot(1, 2, 2)\n",
        "plt.plot(epochs_range, loss, label='Training Loss')\n",
        "plt.plot(epochs_range, val_loss, label='Validation Loss')\n",
        "plt.legend(loc='upper right')\n",
        "plt.title('Training and Validation Loss')\n",
        "plt.show()"
      ],
<<<<<<< HEAD
      "execution_count": null,
=======
      "execution_count": 0,
>>>>>>> e08162e811b921090bb744f06acba950103950ce
      "outputs": []
    },
    {
      "cell_type": "code",
      "metadata": {
<<<<<<< HEAD
        "id": "Okxv3xjLpeIi",
=======
        "id": "qRpg-fJfffmr",
>>>>>>> e08162e811b921090bb744f06acba950103950ce
        "colab_type": "code",
        "colab": {}
      },
      "source": [
<<<<<<< HEAD
        "!ls\n",
        "result=None"
      ],
      "execution_count": null,
      "outputs": []
    },
    {
      "cell_type": "markdown",
      "metadata": {
        "id": "s7xfnsDnCiu6",
        "colab_type": "text"
      },
      "source": [
        "Create test folder for test the CNN"
      ]
=======
        "!ls"
      ],
      "execution_count": 0,
      "outputs": []
    },
    {
      "cell_type": "code",
      "metadata": {
        "id": "hepaBqfJwmcQ",
        "colab_type": "code",
        "colab": {}
      },
      "source": [
        "test = image_gen.flow_from_directory(directory=\"test\",\n",
        "                                     batch_size=BATCH_SIZE,\n",
        "                                     target_size=(IMG_SHAPE,IMG_SHAPE))"
      ],
      "execution_count": 0,
      "outputs": []
    },
    {
      "cell_type": "code",
      "metadata": {
        "id": "UO2Ft7Lvxpp4",
        "colab_type": "code",
        "colab": {}
      },
      "source": [
        "result=model_1.predict(test)"
      ],
      "execution_count": 0,
      "outputs": []
    },
    {
      "cell_type": "code",
      "metadata": {
        "id": "gbcawCCSyBLX",
        "colab_type": "code",
        "colab": {}
      },
      "source": [
        "result.shape"
      ],
      "execution_count": 0,
      "outputs": []
    },
    {
      "cell_type": "code",
      "metadata": {
        "id": "k3AOz2HDyJLX",
        "colab_type": "code",
        "colab": {}
      },
      "source": [
        "result[0]"
      ],
      "execution_count": 0,
      "outputs": []
    },
    {
      "cell_type": "code",
      "metadata": {
        "id": "-eGE2zhWyWt_",
        "colab_type": "code",
        "colab": {}
      },
      "source": [
        "np.argmax(result[0])"
      ],
      "execution_count": 0,
      "outputs": []
>>>>>>> e08162e811b921090bb744f06acba950103950ce
    },
    {
      "cell_type": "code",
      "metadata": {
<<<<<<< HEAD
        "id": "OYDXpav9py5s",
        "colab_type": "code",
        "colab": {}
      },
      "source": [
        "test = image_gen.flow_from_directory(directory=\"test\",\n",
        "                                     batch_size=BATCH_SIZE,\n",
        "                                     target_size=(IMG_SHAPE,IMG_SHAPE))"
      ],
      "execution_count": null,
      "outputs": []
    },
    {
      "cell_type": "code",
      "metadata": {
        "id": "fTJ4EmLdp1eq",
        "colab_type": "code",
        "colab": {}
      },
      "source": [
        "result=model_2.predict(test)"
      ],
      "execution_count": null,
      "outputs": []
    },
    {
      "cell_type": "code",
      "metadata": {
        "id": "BizqwPBsp4F5",
=======
        "id": "JTeIHoVnylEF",
>>>>>>> e08162e811b921090bb744f06acba950103950ce
        "colab_type": "code",
        "colab": {}
      },
      "source": [
        "print(result)"
      ],
      "execution_count": null,
      "outputs": []
    },
    {
      "cell_type": "code",
      "metadata": {
        "id": "1UaLt9vUCzT8",
        "colab_type": "code",
        "colab": {}
      },
      "source": [
        "result=model_2.presict_classes(test)"
      ],
      "execution_count": null,
      "outputs": []
    },
    {
      "cell_type": "code",
      "metadata": {
        "id": "KxfpJ5NaDLJj",
        "colab_type": "code",
        "colab": {}
      },
      "source": [
        "print(result)"
      ],
      "execution_count": null,
      "outputs": []
    },
    {
      "cell_type": "code",
      "metadata": {
        "id": "5dT83iqZREn9",
        "colab_type": "code",
        "colab": {}
      },
      "source": [
        "result.shape"
      ],
      "execution_count": null,
      "outputs": []
    },
    {
      "cell_type": "code",
      "metadata": {
        "id": "bmI5xGgeZpUp",
        "colab_type": "code",
        "colab": {}
      },
      "source": [
        "np.argmax(result[6])"
      ],
      "execution_count": null,
      "outputs": []
    },
    {
      "cell_type": "code",
      "metadata": {
        "id": "0mIeMz5G917K",
        "colab_type": "code",
        "colab": {}
      },
      "source": [
        "print(test)\n",
        "plt.plot(test)"
      ],
      "execution_count": null,
      "outputs": []
    },
    {
      "cell_type": "code",
      "metadata": {
        "id": "ly3tia4z_b1u",
        "colab_type": "code",
        "colab": {}
      },
      "source": [
        "!ls"
      ],
      "execution_count": null,
      "outputs": []
    },
    {
      "cell_type": "markdown",
      "metadata": {
        "id": "ccZg6unzDUfD",
        "colab_type": "text"
      },
      "source": [
        "To check one of your image inside test folder"
      ]
    },
    {
      "cell_type": "code",
      "metadata": {
        "id": "AnMwrSsK_eK8",
        "colab_type": "code",
        "colab": {}
      },
      "source": [
        "%cd test/m/"
      ],
      "execution_count": null,
      "outputs": []
    },
    {
      "cell_type": "code",
      "metadata": {
        "id": "3DBKpaTj_joP",
        "colab_type": "code",
        "colab": {}
      },
      "source": [
        "!ls"
      ],
      "execution_count": null,
      "outputs": []
    },
    {
      "cell_type": "markdown",
      "metadata": {
        "id": "ZUN2eOscDtm0",
        "colab_type": "text"
      },
      "source": [
        "Give one of the name with extension"
      ]
    },
    {
      "cell_type": "code",
      "metadata": {
        "id": "wlH5BmHJ-ZOR",
        "colab_type": "code",
        "colab": {}
      },
      "source": [
        "image=Image.open(\"20191126_154652.jpg\")"
      ],
      "execution_count": null,
      "outputs": []
    },
    {
      "cell_type": "code",
      "metadata": {
        "id": "RUJ1p5MwCfNe",
        "colab_type": "code",
        "colab": {}
      },
      "source": [
        "imsize=(224,224)\n",
        "image=image.resize(imsize)"
      ],
      "execution_count": null,
      "outputs": []
    },
    {
      "cell_type": "code",
      "metadata": {
        "id": "AbTFPyNKC_yJ",
        "colab_type": "code",
        "colab": {}
      },
      "source": [
        "image=keras.preprocessing.image.img_to_array(image)"
      ],
      "execution_count": null,
      "outputs": []
    },
    {
      "cell_type": "code",
      "metadata": {
        "id": "4nfmfUwBDuWD",
        "colab_type": "code",
        "colab": {}
      },
      "source": [
        "image=np.expand_dims(image,axis=0)"
      ],
      "execution_count": null,
      "outputs": []
    },
    {
      "cell_type": "code",
      "metadata": {
        "id": "nIydkaW8D_SN",
        "colab_type": "code",
        "colab": {}
      },
      "source": [
        "result=model_2.predict(image)"
      ],
      "execution_count": null,
      "outputs": []
    },
    {
      "cell_type": "code",
      "metadata": {
        "id": "SMnzb5YWEIjE",
        "colab_type": "code",
        "colab": {}
      },
      "source": [
        "print(result)"
      ],
      "execution_count": null,
      "outputs": []
    },
    {
      "cell_type": "code",
      "metadata": {
        "id": "XrnFz3DOEPdk",
        "colab_type": "code",
        "colab": {}
      },
      "source": [
        "result[0]"
      ],
      "execution_count": null,
      "outputs": []
    },
    {
      "cell_type": "markdown",
      "metadata": {
        "id": "1HUsXR0YD3Mj",
        "colab_type": "text"
      },
      "source": [
        "To save your model"
      ]
    },
    {
      "cell_type": "code",
      "metadata": {
        "id": "A3mLlWhxHFH2",
        "colab_type": "code",
        "colab": {}
      },
      "source": [
        "model_2.save('model_2.h5')"
      ],
      "execution_count": null,
      "outputs": []
    }
  ],
  "metadata": {
    "colab": {
      "name": "work_1.ipynb",
      "provenance": [],
      "collapsed_sections": []
    },
    "kernelspec": {
      "name": "python3",
      "display_name": "Python 3"
    }
  },
  "nbformat": 4,
  "nbformat_minor": 0
}