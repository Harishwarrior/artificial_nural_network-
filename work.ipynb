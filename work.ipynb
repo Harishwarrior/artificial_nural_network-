{
  "nbformat": 4,
  "nbformat_minor": 0,
  "metadata": {
    "colab": {
      "name": "work_1.ipynb",
      "provenance": [],
      "mount_file_id": "16iwbk_m1qRBVf1OYRG2P08Cp-b4t4L23",
      "authorship_tag": "ABX9TyO+OrKRRWWQfRu70CsYmT+0",
      "include_colab_link": true
    },
    "kernelspec": {
      "name": "python3",
      "display_name": "Python 3"
    },
    "accelerator": "GPU"
  },
  "cells": [
    {
      "cell_type": "markdown",
      "metadata": {
        "id": "view-in-github",
        "colab_type": "text"
      },
      "source": [
        "<a href=\"https://colab.research.google.com/github/praveenmarish/artificial_nural_network-/blob/master/work.ipynb\" target=\"_parent\"><img src=\"https://colab.research.google.com/assets/colab-badge.svg\" alt=\"Open In Colab\"/></a>"
      ]
    },
    {
      "cell_type": "code",
      "metadata": {
        "id": "blvebtFDj5gh",
        "colab_type": "code",
        "outputId": "957b492a-b629-44e1-b89c-769cb615ecd3",
        "colab": {
          "base_uri": "https://localhost:8080/",
          "height": 34
        }
      },
      "source": [
        "import keras\n",
        "import numpy as np\n",
        "import matplotlib.pyplot as plt\n",
        "from PIL import Image"
      ],
      "execution_count": 1,
      "outputs": [
        {
          "output_type": "stream",
          "text": [
            "Using TensorFlow backend.\n"
          ],
          "name": "stderr"
        }
      ]
    },
    {
      "cell_type": "code",
      "metadata": {
        "id": "l72zNAkdkXW4",
        "colab_type": "code",
        "outputId": "61620844-fc00-4dbf-c6a4-4cf2618d23b4",
        "colab": {
          "base_uri": "https://localhost:8080/",
          "height": 71
        }
      },
      "source": [
        "model = keras.applications.vgg16.VGG16()"
      ],
      "execution_count": 2,
      "outputs": [
        {
          "output_type": "stream",
          "text": [
            "Downloading data from https://github.com/fchollet/deep-learning-models/releases/download/v0.1/vgg16_weights_tf_dim_ordering_tf_kernels.h5\n",
            "553467904/553467096 [==============================] - 16s 0us/step\n"
          ],
          "name": "stdout"
        }
      ]
    },
    {
      "cell_type": "code",
      "metadata": {
        "id": "0mMMaCMHkaIz",
        "colab_type": "code",
        "colab": {}
      },
      "source": [
        "model_1 = keras.models.Sequential()\n",
        "for layer in model.layers:\n",
        "  model_1.add(layer)"
      ],
      "execution_count": 0,
      "outputs": []
    },
    {
      "cell_type": "code",
      "metadata": {
        "id": "Ol3fRkA9ke4G",
        "colab_type": "code",
        "outputId": "32d716a0-37fa-4ab6-bf08-7518d2ac0a0b",
        "colab": {
          "base_uri": "https://localhost:8080/",
          "height": 34
        }
      },
      "source": [
        "model_1._layers.pop()"
      ],
      "execution_count": 4,
      "outputs": [
        {
          "output_type": "execute_result",
          "data": {
            "text/plain": [
              "<keras.layers.core.Dense at 0x7faa70190cc0>"
            ]
          },
          "metadata": {
            "tags": []
          },
          "execution_count": 4
        }
      ]
    },
    {
      "cell_type": "code",
      "metadata": {
        "id": "J3Ugp7KSkm-w",
        "colab_type": "code",
        "colab": {}
      },
      "source": [
        "model_1.add(keras.layers.Dense(1))"
      ],
      "execution_count": 0,
      "outputs": []
    },
    {
      "cell_type": "code",
      "metadata": {
        "id": "m_j2Ugxvku2O",
        "colab_type": "code",
        "outputId": "8673d032-5001-456d-c65f-a0864f8954ef",
        "colab": {
          "base_uri": "https://localhost:8080/",
          "height": 935
        }
      },
      "source": [
        "model_1.summary()"
      ],
      "execution_count": 6,
      "outputs": [
        {
          "output_type": "stream",
          "text": [
            "Model: \"sequential_1\"\n",
            "_________________________________________________________________\n",
            "Layer (type)                 Output Shape              Param #   \n",
            "=================================================================\n",
            "block1_conv1 (Conv2D)        (None, 224, 224, 64)      1792      \n",
            "_________________________________________________________________\n",
            "block1_conv2 (Conv2D)        (None, 224, 224, 64)      36928     \n",
            "_________________________________________________________________\n",
            "block1_pool (MaxPooling2D)   (None, 112, 112, 64)      0         \n",
            "_________________________________________________________________\n",
            "block2_conv1 (Conv2D)        (None, 112, 112, 128)     73856     \n",
            "_________________________________________________________________\n",
            "block2_conv2 (Conv2D)        (None, 112, 112, 128)     147584    \n",
            "_________________________________________________________________\n",
            "block2_pool (MaxPooling2D)   (None, 56, 56, 128)       0         \n",
            "_________________________________________________________________\n",
            "block3_conv1 (Conv2D)        (None, 56, 56, 256)       295168    \n",
            "_________________________________________________________________\n",
            "block3_conv2 (Conv2D)        (None, 56, 56, 256)       590080    \n",
            "_________________________________________________________________\n",
            "block3_conv3 (Conv2D)        (None, 56, 56, 256)       590080    \n",
            "_________________________________________________________________\n",
            "block3_pool (MaxPooling2D)   (None, 28, 28, 256)       0         \n",
            "_________________________________________________________________\n",
            "block4_conv1 (Conv2D)        (None, 28, 28, 512)       1180160   \n",
            "_________________________________________________________________\n",
            "block4_conv2 (Conv2D)        (None, 28, 28, 512)       2359808   \n",
            "_________________________________________________________________\n",
            "block4_conv3 (Conv2D)        (None, 28, 28, 512)       2359808   \n",
            "_________________________________________________________________\n",
            "block4_pool (MaxPooling2D)   (None, 14, 14, 512)       0         \n",
            "_________________________________________________________________\n",
            "block5_conv1 (Conv2D)        (None, 14, 14, 512)       2359808   \n",
            "_________________________________________________________________\n",
            "block5_conv2 (Conv2D)        (None, 14, 14, 512)       2359808   \n",
            "_________________________________________________________________\n",
            "block5_conv3 (Conv2D)        (None, 14, 14, 512)       2359808   \n",
            "_________________________________________________________________\n",
            "block5_pool (MaxPooling2D)   (None, 7, 7, 512)         0         \n",
            "_________________________________________________________________\n",
            "flatten (Flatten)            (None, 25088)             0         \n",
            "_________________________________________________________________\n",
            "fc1 (Dense)                  (None, 4096)              102764544 \n",
            "_________________________________________________________________\n",
            "fc2 (Dense)                  (None, 4096)              16781312  \n",
            "_________________________________________________________________\n",
            "predictions (Dense)          (None, 1000)              4097000   \n",
            "_________________________________________________________________\n",
            "dense_1 (Dense)              (None, 1)                 1001      \n",
            "=================================================================\n",
            "Total params: 138,358,545\n",
            "Trainable params: 138,358,545\n",
            "Non-trainable params: 0\n",
            "_________________________________________________________________\n"
          ],
          "name": "stdout"
        }
      ]
    },
    {
      "cell_type": "code",
      "metadata": {
        "id": "qBtWhrzOkvz1",
        "colab_type": "code",
        "colab": {}
      },
      "source": [
        "model_1.compile(loss='sparse_categorical_crossentropy',\n",
        "                  optimizer='adam',\n",
        "                  metrics=['accuracy'])"
      ],
      "execution_count": 0,
      "outputs": []
    },
    {
      "cell_type": "code",
      "metadata": {
        "id": "HqeHBnqGk05e",
        "colab_type": "code",
        "outputId": "f8be7f15-0a75-4ca3-959a-bd873bf1aed7",
        "colab": {
          "base_uri": "https://localhost:8080/",
          "height": 51
        }
      },
      "source": [
        "!ls\n",
        "%cd drive/My\\ Drive/project/Camera\\ Roll/"
      ],
      "execution_count": 4,
      "outputs": [
        {
          "output_type": "stream",
          "text": [
            "drive  sample_data\n",
            "/content/drive/My Drive/project/Camera Roll\n"
          ],
          "name": "stdout"
        }
      ]
    },
    {
      "cell_type": "code",
      "metadata": {
        "id": "TxkXtdJSk56g",
        "colab_type": "code",
        "outputId": "a49a8429-9176-442f-d0ec-0b6c59649fed",
        "colab": {
          "base_uri": "https://localhost:8080/",
          "height": 34
        }
      },
      "source": [
        "!ls"
      ],
      "execution_count": 9,
      "outputs": [
        {
          "output_type": "stream",
          "text": [
            "desktop.ini  test  train  validate  WIN_20200518_13_38_08_Pro.jpg\n"
          ],
          "name": "stdout"
        }
      ]
    },
    {
      "cell_type": "code",
      "metadata": {
        "id": "hZiyUfP1k6wb",
        "colab_type": "code",
        "colab": {}
      },
      "source": [
        "train_dir='train'\n",
        "test_dir='validate'\n",
        "BATCH_SIZE=100\n",
        "IMG_SHAPE  = 224"
      ],
      "execution_count": 0,
      "outputs": []
    },
    {
      "cell_type": "code",
      "metadata": {
        "id": "rPfUtw5DmuDP",
        "colab_type": "code",
        "colab": {}
      },
      "source": [
        "classes=['marish']"
      ],
      "execution_count": 0,
      "outputs": []
    },
    {
      "cell_type": "code",
      "metadata": {
        "id": "tYgODuRUm8fc",
        "colab_type": "code",
        "colab": {}
      },
      "source": [
        ""
      ],
      "execution_count": 0,
      "outputs": []
    },
    {
      "cell_type": "code",
      "metadata": {
        "id": "DWoIAcq8k88z",
        "colab_type": "code",
        "outputId": "db00c70f-afc0-4713-e2cb-3d9905f5719a",
        "colab": {
          "base_uri": "https://localhost:8080/",
          "height": 34
        }
      },
      "source": [
        "image_gen = keras.preprocessing.image.ImageDataGenerator(rescale=1./255,\n",
        "                                                         horizontal_flip=True,\n",
        "                                                         rotation_range=45,\n",
        "                                                         width_shift_range=.15,\n",
        "                                                         height_shift_range=.15,\n",
        "                                                         zoom_range=0.5)\n",
        "\n",
        "train_data_gen = image_gen.flow_from_directory(batch_size=BATCH_SIZE,\n",
        "                                               directory=train_dir,\n",
        "                                               shuffle=True,\n",
        "                                               target_size=(IMG_SHAPE,IMG_SHAPE),\n",
        "                                               class_mode='sparse')"
      ],
      "execution_count": 5,
      "outputs": [
        {
          "output_type": "stream",
          "text": [
            "Found 7 images belonging to 2 classes.\n"
          ],
          "name": "stdout"
        }
      ]
    },
    {
      "cell_type": "code",
      "metadata": {
        "id": "w8ChJQqfk_p2",
        "colab_type": "code",
        "outputId": "5c835f60-ec00-41fa-e14c-e5599c11119a",
        "colab": {
          "base_uri": "https://localhost:8080/",
          "height": 34
        }
      },
      "source": [
        "image_gen_val = keras.preprocessing.image.ImageDataGenerator(rescale=1./255)\n",
        "\n",
        "validate_data_gen=image_gen.flow_from_directory(batch_size=BATCH_SIZE,\n",
        "                                                directory=test_dir,\n",
        "                                                shuffle=True,\n",
        "                                                target_size=(IMG_SHAPE,IMG_SHAPE),\n",
        "                                                class_mode='sparse')"
      ],
      "execution_count": 6,
      "outputs": [
        {
          "output_type": "stream",
          "text": [
            "Found 3 images belonging to 2 classes.\n"
          ],
          "name": "stdout"
        }
      ]
    },
    {
      "cell_type": "code",
      "metadata": {
        "id": "RI-F8VKNoZex",
        "colab_type": "code",
        "colab": {}
      },
      "source": [
        "total_train=7\n",
        "total_validate=3"
      ],
      "execution_count": 0,
      "outputs": []
    },
    {
      "cell_type": "code",
      "metadata": {
        "id": "WRHTzaO57jt4",
        "colab_type": "code",
        "colab": {}
      },
      "source": [
        "model_2 = keras.models.Sequential()\n",
        "\n",
        "model_2.add(keras.layers.Conv2D(16, 3, padding='same', activation='relu', input_shape=(IMG_SHAPE,IMG_SHAPE, 3)))\n",
        "model_2.add(keras.layers.MaxPooling2D(pool_size=(2, 2)))\n",
        "\n",
        "model_2.add(keras.layers.Conv2D(32, 3, padding='same', activation='relu'))\n",
        "model_2.add(keras.layers.MaxPooling2D(pool_size=(2, 2)))\n",
        "\n",
        "model_2.add(keras.layers.Conv2D(64, 3, padding='same', activation='relu'))\n",
        "model_2.add(keras.layers.MaxPooling2D(pool_size=(2, 2)))\n",
        "\n",
        "model_2.add(keras.layers.Flatten())\n",
        "model_2.add(keras.layers.Dropout(0.2))\n",
        "model_2.add(keras.layers.Dense(512, activation='relu'))\n",
        "\n",
        "model_2.add(keras.layers.Dropout(0.2))\n",
        "model_2.add(keras.layers.Dense(2))"
      ],
      "execution_count": 0,
      "outputs": []
    },
    {
      "cell_type": "code",
      "metadata": {
        "id": "JZl-L1Dz8QIK",
        "colab_type": "code",
        "colab": {}
      },
      "source": [
        "model_2.compile(optimizer='adam',\n",
        "              loss=keras.losses.SparseCategoricalCrossentropy(from_logits=True),\n",
        "              metrics=['accuracy'])"
      ],
      "execution_count": 0,
      "outputs": []
    },
    {
      "cell_type": "code",
      "metadata": {
        "id": "J97-LPIilC1e",
        "colab_type": "code",
        "outputId": "602c3919-a742-40ff-ad15-6726948ba43a",
        "colab": {
          "base_uri": "https://localhost:8080/",
          "height": 1000
        }
      },
      "source": [
        "epochs=200\n",
        "history = model_2.fit_generator(\n",
        "    train_data_gen,\n",
        "    steps_per_epoch=int(np.ceil(total_train / float(BATCH_SIZE))),\n",
        "    epochs=epochs,\n",
        "    validation_data=validate_data_gen,\n",
        "    validation_steps=int(np.ceil(total_validate / float(BATCH_SIZE)))\n",
        ")"
      ],
      "execution_count": 10,
      "outputs": [
        {
          "output_type": "stream",
          "text": [
            "Epoch 1/200\n",
            "1/1 [==============================] - 2s 2s/step - loss: 0.7267 - accuracy: 0.2857 - val_loss: 1.3027 - val_accuracy: 0.6667\n",
            "Epoch 2/200\n",
            "1/1 [==============================] - 0s 69ms/step - loss: 2.0454 - accuracy: 0.5714 - val_loss: 3.9595 - val_accuracy: 0.3333\n",
            "Epoch 3/200\n",
            "1/1 [==============================] - 0s 237ms/step - loss: 2.5677 - accuracy: 0.4286 - val_loss: 1.2142 - val_accuracy: 0.3333\n",
            "Epoch 4/200\n",
            "1/1 [==============================] - 0s 288ms/step - loss: 0.9117 - accuracy: 0.4286 - val_loss: 0.5974 - val_accuracy: 0.6667\n",
            "Epoch 5/200\n",
            "1/1 [==============================] - 0s 292ms/step - loss: 0.6922 - accuracy: 0.5714 - val_loss: 0.7477 - val_accuracy: 0.6667\n",
            "Epoch 6/200\n",
            "1/1 [==============================] - 0s 293ms/step - loss: 0.9244 - accuracy: 0.5714 - val_loss: 0.5687 - val_accuracy: 0.6667\n",
            "Epoch 7/200\n",
            "1/1 [==============================] - 0s 312ms/step - loss: 0.7801 - accuracy: 0.5714 - val_loss: 0.5735 - val_accuracy: 0.6667\n",
            "Epoch 8/200\n",
            "1/1 [==============================] - 0s 307ms/step - loss: 0.7010 - accuracy: 0.5714 - val_loss: 0.5907 - val_accuracy: 0.6667\n",
            "Epoch 9/200\n",
            "1/1 [==============================] - 0s 279ms/step - loss: 0.6204 - accuracy: 0.5714 - val_loss: 0.5919 - val_accuracy: 0.6667\n",
            "Epoch 10/200\n",
            "1/1 [==============================] - 0s 303ms/step - loss: 0.6272 - accuracy: 0.5714 - val_loss: 0.6317 - val_accuracy: 0.6667\n",
            "Epoch 11/200\n",
            "1/1 [==============================] - 0s 324ms/step - loss: 0.6367 - accuracy: 0.7143 - val_loss: 0.6296 - val_accuracy: 0.6667\n",
            "Epoch 12/200\n",
            "1/1 [==============================] - 0s 281ms/step - loss: 0.6396 - accuracy: 0.7143 - val_loss: 0.6293 - val_accuracy: 0.6667\n",
            "Epoch 13/200\n",
            "1/1 [==============================] - 0s 294ms/step - loss: 0.6104 - accuracy: 0.8571 - val_loss: 0.7061 - val_accuracy: 0.6667\n",
            "Epoch 14/200\n",
            "1/1 [==============================] - 0s 291ms/step - loss: 0.6653 - accuracy: 0.5714 - val_loss: 0.6180 - val_accuracy: 1.0000\n",
            "Epoch 15/200\n",
            "1/1 [==============================] - 0s 316ms/step - loss: 0.5463 - accuracy: 0.8571 - val_loss: 0.6442 - val_accuracy: 0.3333\n",
            "Epoch 16/200\n",
            "1/1 [==============================] - 0s 285ms/step - loss: 0.5832 - accuracy: 0.7143 - val_loss: 0.6802 - val_accuracy: 0.3333\n",
            "Epoch 17/200\n",
            "1/1 [==============================] - 0s 299ms/step - loss: 0.5676 - accuracy: 0.8571 - val_loss: 0.4979 - val_accuracy: 1.0000\n",
            "Epoch 18/200\n",
            "1/1 [==============================] - 0s 316ms/step - loss: 0.5668 - accuracy: 0.8571 - val_loss: 0.5615 - val_accuracy: 0.6667\n",
            "Epoch 19/200\n",
            "1/1 [==============================] - 0s 267ms/step - loss: 0.6050 - accuracy: 0.7143 - val_loss: 0.6923 - val_accuracy: 0.3333\n",
            "Epoch 20/200\n",
            "1/1 [==============================] - 0s 309ms/step - loss: 0.5807 - accuracy: 0.7143 - val_loss: 0.5712 - val_accuracy: 0.6667\n",
            "Epoch 21/200\n",
            "1/1 [==============================] - 0s 290ms/step - loss: 0.5937 - accuracy: 0.5714 - val_loss: 0.6526 - val_accuracy: 0.6667\n",
            "Epoch 22/200\n",
            "1/1 [==============================] - 0s 304ms/step - loss: 0.4951 - accuracy: 0.8571 - val_loss: 0.4581 - val_accuracy: 1.0000\n",
            "Epoch 23/200\n",
            "1/1 [==============================] - 0s 296ms/step - loss: 0.5532 - accuracy: 0.8571 - val_loss: 0.4456 - val_accuracy: 1.0000\n",
            "Epoch 24/200\n",
            "1/1 [==============================] - 0s 297ms/step - loss: 0.5425 - accuracy: 0.7143 - val_loss: 0.4775 - val_accuracy: 0.6667\n",
            "Epoch 25/200\n",
            "1/1 [==============================] - 0s 304ms/step - loss: 0.4838 - accuracy: 0.8571 - val_loss: 0.4119 - val_accuracy: 0.6667\n",
            "Epoch 26/200\n",
            "1/1 [==============================] - 0s 286ms/step - loss: 0.4975 - accuracy: 0.5714 - val_loss: 0.4591 - val_accuracy: 0.6667\n",
            "Epoch 27/200\n",
            "1/1 [==============================] - 0s 264ms/step - loss: 0.4992 - accuracy: 0.8571 - val_loss: 0.4544 - val_accuracy: 1.0000\n",
            "Epoch 28/200\n",
            "1/1 [==============================] - 0s 235ms/step - loss: 0.5537 - accuracy: 0.8571 - val_loss: 0.4128 - val_accuracy: 0.6667\n",
            "Epoch 29/200\n",
            "1/1 [==============================] - 0s 270ms/step - loss: 0.4534 - accuracy: 0.8571 - val_loss: 0.7061 - val_accuracy: 0.6667\n",
            "Epoch 30/200\n",
            "1/1 [==============================] - 0s 236ms/step - loss: 0.5402 - accuracy: 0.8571 - val_loss: 0.5194 - val_accuracy: 0.6667\n",
            "Epoch 31/200\n",
            "1/1 [==============================] - 0s 264ms/step - loss: 0.3719 - accuracy: 0.7143 - val_loss: 0.6316 - val_accuracy: 0.6667\n",
            "Epoch 32/200\n",
            "1/1 [==============================] - 0s 244ms/step - loss: 0.2242 - accuracy: 1.0000 - val_loss: 0.4892 - val_accuracy: 0.6667\n",
            "Epoch 33/200\n",
            "1/1 [==============================] - 0s 289ms/step - loss: 0.1480 - accuracy: 1.0000 - val_loss: 0.6486 - val_accuracy: 0.6667\n",
            "Epoch 34/200\n",
            "1/1 [==============================] - 0s 252ms/step - loss: 0.3810 - accuracy: 0.8571 - val_loss: 0.4226 - val_accuracy: 0.6667\n",
            "Epoch 35/200\n",
            "1/1 [==============================] - 0s 250ms/step - loss: 0.6927 - accuracy: 0.4286 - val_loss: 0.1645 - val_accuracy: 1.0000\n",
            "Epoch 36/200\n",
            "1/1 [==============================] - 0s 294ms/step - loss: 0.5810 - accuracy: 0.7143 - val_loss: 0.3765 - val_accuracy: 0.6667\n",
            "Epoch 37/200\n",
            "1/1 [==============================] - 0s 252ms/step - loss: 0.1830 - accuracy: 1.0000 - val_loss: 0.1990 - val_accuracy: 1.0000\n",
            "Epoch 38/200\n",
            "1/1 [==============================] - 0s 249ms/step - loss: 0.4339 - accuracy: 0.8571 - val_loss: 0.3484 - val_accuracy: 1.0000\n",
            "Epoch 39/200\n",
            "1/1 [==============================] - 0s 284ms/step - loss: 0.3939 - accuracy: 0.8571 - val_loss: 0.6714 - val_accuracy: 0.6667\n",
            "Epoch 40/200\n",
            "1/1 [==============================] - 0s 264ms/step - loss: 0.5312 - accuracy: 0.8571 - val_loss: 0.3109 - val_accuracy: 1.0000\n",
            "Epoch 41/200\n",
            "1/1 [==============================] - 0s 233ms/step - loss: 0.4116 - accuracy: 0.7143 - val_loss: 0.2461 - val_accuracy: 0.6667\n",
            "Epoch 42/200\n",
            "1/1 [==============================] - 0s 259ms/step - loss: 0.1863 - accuracy: 0.8571 - val_loss: 0.4750 - val_accuracy: 0.6667\n",
            "Epoch 43/200\n",
            "1/1 [==============================] - 0s 245ms/step - loss: 0.1572 - accuracy: 1.0000 - val_loss: 0.4155 - val_accuracy: 1.0000\n",
            "Epoch 44/200\n",
            "1/1 [==============================] - 0s 303ms/step - loss: 0.2539 - accuracy: 1.0000 - val_loss: 0.1956 - val_accuracy: 1.0000\n",
            "Epoch 45/200\n",
            "1/1 [==============================] - 0s 288ms/step - loss: 0.3204 - accuracy: 0.8571 - val_loss: 0.4946 - val_accuracy: 0.6667\n",
            "Epoch 46/200\n",
            "1/1 [==============================] - 0s 283ms/step - loss: 0.0757 - accuracy: 1.0000 - val_loss: 0.2159 - val_accuracy: 1.0000\n",
            "Epoch 47/200\n",
            "1/1 [==============================] - 0s 239ms/step - loss: 0.3614 - accuracy: 0.7143 - val_loss: 0.3566 - val_accuracy: 1.0000\n",
            "Epoch 48/200\n",
            "1/1 [==============================] - 0s 297ms/step - loss: 0.2171 - accuracy: 1.0000 - val_loss: 0.3618 - val_accuracy: 0.6667\n",
            "Epoch 49/200\n",
            "1/1 [==============================] - 0s 274ms/step - loss: 0.3608 - accuracy: 0.8571 - val_loss: 0.3883 - val_accuracy: 1.0000\n",
            "Epoch 50/200\n",
            "1/1 [==============================] - 0s 265ms/step - loss: 0.3444 - accuracy: 0.8571 - val_loss: 0.5482 - val_accuracy: 0.6667\n",
            "Epoch 51/200\n",
            "1/1 [==============================] - 0s 234ms/step - loss: 0.4216 - accuracy: 0.7143 - val_loss: 0.3242 - val_accuracy: 0.6667\n",
            "Epoch 52/200\n",
            "1/1 [==============================] - 0s 266ms/step - loss: 0.4650 - accuracy: 0.8571 - val_loss: 0.4601 - val_accuracy: 0.6667\n",
            "Epoch 53/200\n",
            "1/1 [==============================] - 0s 229ms/step - loss: 0.2635 - accuracy: 0.8571 - val_loss: 0.5812 - val_accuracy: 0.6667\n",
            "Epoch 54/200\n",
            "1/1 [==============================] - 0s 262ms/step - loss: 0.1519 - accuracy: 0.8571 - val_loss: 0.3948 - val_accuracy: 0.6667\n",
            "Epoch 55/200\n",
            "1/1 [==============================] - 0s 235ms/step - loss: 0.1715 - accuracy: 1.0000 - val_loss: 0.4526 - val_accuracy: 0.6667\n",
            "Epoch 56/200\n",
            "1/1 [==============================] - 0s 267ms/step - loss: 0.4855 - accuracy: 0.8571 - val_loss: 0.8218 - val_accuracy: 0.3333\n",
            "Epoch 57/200\n",
            "1/1 [==============================] - 0s 229ms/step - loss: 0.3893 - accuracy: 0.7143 - val_loss: 0.9895 - val_accuracy: 0.3333\n",
            "Epoch 58/200\n",
            "1/1 [==============================] - 0s 264ms/step - loss: 0.1141 - accuracy: 1.0000 - val_loss: 0.2254 - val_accuracy: 1.0000\n",
            "Epoch 59/200\n",
            "1/1 [==============================] - 0s 246ms/step - loss: 0.1882 - accuracy: 1.0000 - val_loss: 1.0279 - val_accuracy: 0.6667\n",
            "Epoch 60/200\n",
            "1/1 [==============================] - 0s 290ms/step - loss: 0.0631 - accuracy: 1.0000 - val_loss: 0.2330 - val_accuracy: 0.6667\n",
            "Epoch 61/200\n",
            "1/1 [==============================] - 0s 259ms/step - loss: 0.0617 - accuracy: 1.0000 - val_loss: 0.5698 - val_accuracy: 0.6667\n",
            "Epoch 62/200\n",
            "1/1 [==============================] - 0s 243ms/step - loss: 0.5846 - accuracy: 0.5714 - val_loss: 0.4756 - val_accuracy: 0.6667\n",
            "Epoch 63/200\n",
            "1/1 [==============================] - 0s 253ms/step - loss: 0.0464 - accuracy: 1.0000 - val_loss: 0.7974 - val_accuracy: 0.6667\n",
            "Epoch 64/200\n",
            "1/1 [==============================] - 0s 245ms/step - loss: 0.0554 - accuracy: 1.0000 - val_loss: 1.7893 - val_accuracy: 0.3333\n",
            "Epoch 65/200\n",
            "1/1 [==============================] - 0s 305ms/step - loss: 0.3582 - accuracy: 0.8571 - val_loss: 1.2430 - val_accuracy: 0.6667\n",
            "Epoch 66/200\n",
            "1/1 [==============================] - 0s 282ms/step - loss: 0.4980 - accuracy: 0.7143 - val_loss: 0.4111 - val_accuracy: 0.6667\n",
            "Epoch 67/200\n",
            "1/1 [==============================] - 0s 272ms/step - loss: 0.1929 - accuracy: 0.8571 - val_loss: 0.4666 - val_accuracy: 0.6667\n",
            "Epoch 68/200\n",
            "1/1 [==============================] - 0s 237ms/step - loss: 0.2987 - accuracy: 0.7143 - val_loss: 0.2619 - val_accuracy: 1.0000\n",
            "Epoch 69/200\n",
            "1/1 [==============================] - 0s 293ms/step - loss: 0.4896 - accuracy: 0.8571 - val_loss: 0.6761 - val_accuracy: 0.6667\n",
            "Epoch 70/200\n",
            "1/1 [==============================] - 0s 250ms/step - loss: 0.1750 - accuracy: 1.0000 - val_loss: 0.4858 - val_accuracy: 0.6667\n",
            "Epoch 71/200\n",
            "1/1 [==============================] - 0s 265ms/step - loss: 0.5542 - accuracy: 0.7143 - val_loss: 0.0396 - val_accuracy: 1.0000\n",
            "Epoch 72/200\n",
            "1/1 [==============================] - 0s 277ms/step - loss: 0.2499 - accuracy: 0.8571 - val_loss: 0.2507 - val_accuracy: 1.0000\n",
            "Epoch 73/200\n",
            "1/1 [==============================] - 0s 266ms/step - loss: 0.0641 - accuracy: 1.0000 - val_loss: 0.0804 - val_accuracy: 1.0000\n",
            "Epoch 74/200\n",
            "1/1 [==============================] - 0s 233ms/step - loss: 0.3387 - accuracy: 0.8571 - val_loss: 0.0832 - val_accuracy: 1.0000\n",
            "Epoch 75/200\n",
            "1/1 [==============================] - 0s 275ms/step - loss: 0.2507 - accuracy: 0.8571 - val_loss: 0.1692 - val_accuracy: 1.0000\n",
            "Epoch 76/200\n",
            "1/1 [==============================] - 0s 233ms/step - loss: 0.0864 - accuracy: 1.0000 - val_loss: 0.1674 - val_accuracy: 1.0000\n",
            "Epoch 77/200\n",
            "1/1 [==============================] - 0s 291ms/step - loss: 0.2859 - accuracy: 0.8571 - val_loss: 0.5864 - val_accuracy: 0.6667\n",
            "Epoch 78/200\n",
            "1/1 [==============================] - 0s 256ms/step - loss: 0.0405 - accuracy: 1.0000 - val_loss: 0.4643 - val_accuracy: 0.6667\n",
            "Epoch 79/200\n",
            "1/1 [==============================] - 0s 252ms/step - loss: 0.3599 - accuracy: 0.7143 - val_loss: 0.2908 - val_accuracy: 1.0000\n",
            "Epoch 80/200\n",
            "1/1 [==============================] - 0s 294ms/step - loss: 0.6226 - accuracy: 0.7143 - val_loss: 0.1909 - val_accuracy: 1.0000\n",
            "Epoch 81/200\n",
            "1/1 [==============================] - 0s 250ms/step - loss: 0.2239 - accuracy: 0.8571 - val_loss: 0.4485 - val_accuracy: 0.6667\n",
            "Epoch 82/200\n",
            "1/1 [==============================] - 0s 253ms/step - loss: 0.2568 - accuracy: 0.8571 - val_loss: 0.5232 - val_accuracy: 0.6667\n",
            "Epoch 83/200\n",
            "1/1 [==============================] - 0s 263ms/step - loss: 0.2217 - accuracy: 1.0000 - val_loss: 0.6927 - val_accuracy: 0.3333\n",
            "Epoch 84/200\n",
            "1/1 [==============================] - 0s 244ms/step - loss: 0.5347 - accuracy: 0.8571 - val_loss: 0.4727 - val_accuracy: 0.6667\n",
            "Epoch 85/200\n",
            "1/1 [==============================] - 0s 281ms/step - loss: 0.5743 - accuracy: 0.7143 - val_loss: 0.2456 - val_accuracy: 1.0000\n",
            "Epoch 86/200\n",
            "1/1 [==============================] - 0s 318ms/step - loss: 0.3131 - accuracy: 0.7143 - val_loss: 0.1567 - val_accuracy: 1.0000\n",
            "Epoch 87/200\n",
            "1/1 [==============================] - 0s 290ms/step - loss: 0.1883 - accuracy: 0.8571 - val_loss: 0.4516 - val_accuracy: 0.6667\n",
            "Epoch 88/200\n",
            "1/1 [==============================] - 0s 293ms/step - loss: 0.1017 - accuracy: 1.0000 - val_loss: 0.4683 - val_accuracy: 0.6667\n",
            "Epoch 89/200\n",
            "1/1 [==============================] - 0s 262ms/step - loss: 0.1916 - accuracy: 1.0000 - val_loss: 0.4263 - val_accuracy: 0.6667\n",
            "Epoch 90/200\n",
            "1/1 [==============================] - 0s 244ms/step - loss: 0.3490 - accuracy: 0.8571 - val_loss: 0.2487 - val_accuracy: 1.0000\n",
            "Epoch 91/200\n",
            "1/1 [==============================] - 0s 295ms/step - loss: 0.1051 - accuracy: 1.0000 - val_loss: 0.5004 - val_accuracy: 0.6667\n",
            "Epoch 92/200\n",
            "1/1 [==============================] - 0s 255ms/step - loss: 0.4442 - accuracy: 0.8571 - val_loss: 0.3566 - val_accuracy: 0.6667\n",
            "Epoch 93/200\n",
            "1/1 [==============================] - 0s 235ms/step - loss: 0.2398 - accuracy: 0.8571 - val_loss: 0.1623 - val_accuracy: 1.0000\n",
            "Epoch 94/200\n",
            "1/1 [==============================] - 0s 262ms/step - loss: 0.1594 - accuracy: 0.8571 - val_loss: 0.4379 - val_accuracy: 0.6667\n",
            "Epoch 95/200\n",
            "1/1 [==============================] - 0s 238ms/step - loss: 0.0690 - accuracy: 1.0000 - val_loss: 0.3374 - val_accuracy: 1.0000\n",
            "Epoch 96/200\n",
            "1/1 [==============================] - 0s 280ms/step - loss: 0.4119 - accuracy: 0.7143 - val_loss: 0.4600 - val_accuracy: 0.6667\n",
            "Epoch 97/200\n",
            "1/1 [==============================] - 0s 266ms/step - loss: 0.2114 - accuracy: 1.0000 - val_loss: 0.0435 - val_accuracy: 1.0000\n",
            "Epoch 98/200\n",
            "1/1 [==============================] - 0s 243ms/step - loss: 0.1776 - accuracy: 0.8571 - val_loss: 0.5313 - val_accuracy: 0.6667\n",
            "Epoch 99/200\n",
            "1/1 [==============================] - 0s 287ms/step - loss: 0.3910 - accuracy: 0.7143 - val_loss: 0.2230 - val_accuracy: 1.0000\n",
            "Epoch 100/200\n",
            "1/1 [==============================] - 0s 252ms/step - loss: 0.1610 - accuracy: 0.8571 - val_loss: 0.4395 - val_accuracy: 0.6667\n",
            "Epoch 101/200\n",
            "1/1 [==============================] - 0s 247ms/step - loss: 0.1782 - accuracy: 1.0000 - val_loss: 0.7005 - val_accuracy: 0.6667\n",
            "Epoch 102/200\n",
            "1/1 [==============================] - 0s 254ms/step - loss: 0.0480 - accuracy: 1.0000 - val_loss: 0.4388 - val_accuracy: 0.6667\n",
            "Epoch 103/200\n",
            "1/1 [==============================] - 0s 244ms/step - loss: 0.0395 - accuracy: 1.0000 - val_loss: 0.2767 - val_accuracy: 0.6667\n",
            "Epoch 104/200\n",
            "1/1 [==============================] - 0s 256ms/step - loss: 0.1489 - accuracy: 1.0000 - val_loss: 0.7089 - val_accuracy: 0.6667\n",
            "Epoch 105/200\n",
            "1/1 [==============================] - 0s 264ms/step - loss: 0.3109 - accuracy: 0.8571 - val_loss: 0.2883 - val_accuracy: 0.6667\n",
            "Epoch 106/200\n",
            "1/1 [==============================] - 0s 265ms/step - loss: 0.2009 - accuracy: 0.8571 - val_loss: 1.2387 - val_accuracy: 0.6667\n",
            "Epoch 107/200\n",
            "1/1 [==============================] - 0s 281ms/step - loss: 0.4700 - accuracy: 0.8571 - val_loss: 0.2151 - val_accuracy: 1.0000\n",
            "Epoch 108/200\n",
            "1/1 [==============================] - 0s 279ms/step - loss: 0.2365 - accuracy: 0.8571 - val_loss: 0.3657 - val_accuracy: 1.0000\n",
            "Epoch 109/200\n",
            "1/1 [==============================] - 0s 250ms/step - loss: 0.1551 - accuracy: 1.0000 - val_loss: 0.0520 - val_accuracy: 1.0000\n",
            "Epoch 110/200\n",
            "1/1 [==============================] - 0s 274ms/step - loss: 0.1850 - accuracy: 0.8571 - val_loss: 0.3755 - val_accuracy: 0.6667\n",
            "Epoch 111/200\n",
            "1/1 [==============================] - 0s 271ms/step - loss: 0.0331 - accuracy: 1.0000 - val_loss: 0.8867 - val_accuracy: 0.6667\n",
            "Epoch 112/200\n",
            "1/1 [==============================] - 0s 239ms/step - loss: 0.0297 - accuracy: 1.0000 - val_loss: 0.2861 - val_accuracy: 1.0000\n",
            "Epoch 113/200\n",
            "1/1 [==============================] - 0s 307ms/step - loss: 0.2282 - accuracy: 0.8571 - val_loss: 0.1387 - val_accuracy: 1.0000\n",
            "Epoch 114/200\n",
            "1/1 [==============================] - 0s 290ms/step - loss: 0.0100 - accuracy: 1.0000 - val_loss: 0.2169 - val_accuracy: 1.0000\n",
            "Epoch 115/200\n",
            "1/1 [==============================] - 0s 292ms/step - loss: 0.0449 - accuracy: 1.0000 - val_loss: 0.1387 - val_accuracy: 1.0000\n",
            "Epoch 116/200\n",
            "1/1 [==============================] - 0s 308ms/step - loss: 0.1084 - accuracy: 1.0000 - val_loss: 0.0225 - val_accuracy: 1.0000\n",
            "Epoch 117/200\n",
            "1/1 [==============================] - 0s 289ms/step - loss: 0.0276 - accuracy: 1.0000 - val_loss: 0.7756 - val_accuracy: 0.3333\n",
            "Epoch 118/200\n",
            "1/1 [==============================] - 0s 269ms/step - loss: 0.1446 - accuracy: 0.8571 - val_loss: 0.2894 - val_accuracy: 0.6667\n",
            "Epoch 119/200\n",
            "1/1 [==============================] - 0s 296ms/step - loss: 0.0301 - accuracy: 1.0000 - val_loss: 0.1582 - val_accuracy: 1.0000\n",
            "Epoch 120/200\n",
            "1/1 [==============================] - 0s 250ms/step - loss: 0.0176 - accuracy: 1.0000 - val_loss: 0.8181 - val_accuracy: 0.6667\n",
            "Epoch 121/200\n",
            "1/1 [==============================] - 0s 280ms/step - loss: 0.0322 - accuracy: 1.0000 - val_loss: 0.4946 - val_accuracy: 0.6667\n",
            "Epoch 122/200\n",
            "1/1 [==============================] - 0s 302ms/step - loss: 0.0052 - accuracy: 1.0000 - val_loss: 0.4331 - val_accuracy: 0.6667\n",
            "Epoch 123/200\n",
            "1/1 [==============================] - 0s 299ms/step - loss: 0.0093 - accuracy: 1.0000 - val_loss: 0.7902 - val_accuracy: 0.6667\n",
            "Epoch 124/200\n",
            "1/1 [==============================] - 0s 290ms/step - loss: 3.4413e-04 - accuracy: 1.0000 - val_loss: 0.4505 - val_accuracy: 0.6667\n",
            "Epoch 125/200\n",
            "1/1 [==============================] - 0s 321ms/step - loss: 0.0032 - accuracy: 1.0000 - val_loss: 0.0881 - val_accuracy: 1.0000\n",
            "Epoch 126/200\n",
            "1/1 [==============================] - 0s 273ms/step - loss: 0.0081 - accuracy: 1.0000 - val_loss: 0.0370 - val_accuracy: 1.0000\n",
            "Epoch 127/200\n",
            "1/1 [==============================] - 0s 295ms/step - loss: 0.2109 - accuracy: 0.8571 - val_loss: 0.0890 - val_accuracy: 1.0000\n",
            "Epoch 128/200\n",
            "1/1 [==============================] - 0s 293ms/step - loss: 0.4145 - accuracy: 0.8571 - val_loss: 0.8212 - val_accuracy: 0.6667\n",
            "Epoch 129/200\n",
            "1/1 [==============================] - 0s 262ms/step - loss: 0.0045 - accuracy: 1.0000 - val_loss: 0.0934 - val_accuracy: 1.0000\n",
            "Epoch 130/200\n",
            "1/1 [==============================] - 0s 239ms/step - loss: 0.1020 - accuracy: 1.0000 - val_loss: 0.0337 - val_accuracy: 1.0000\n",
            "Epoch 131/200\n",
            "1/1 [==============================] - 0s 265ms/step - loss: 0.1007 - accuracy: 1.0000 - val_loss: 0.1997 - val_accuracy: 1.0000\n",
            "Epoch 132/200\n",
            "1/1 [==============================] - 0s 284ms/step - loss: 0.1146 - accuracy: 1.0000 - val_loss: 0.2689 - val_accuracy: 1.0000\n",
            "Epoch 133/200\n",
            "1/1 [==============================] - 0s 242ms/step - loss: 0.0163 - accuracy: 1.0000 - val_loss: 0.2878 - val_accuracy: 0.6667\n",
            "Epoch 134/200\n",
            "1/1 [==============================] - 0s 298ms/step - loss: 0.0063 - accuracy: 1.0000 - val_loss: 0.3507 - val_accuracy: 0.6667\n",
            "Epoch 135/200\n",
            "1/1 [==============================] - 0s 255ms/step - loss: 0.1488 - accuracy: 0.8571 - val_loss: 0.1446 - val_accuracy: 1.0000\n",
            "Epoch 136/200\n",
            "1/1 [==============================] - 0s 238ms/step - loss: 0.0165 - accuracy: 1.0000 - val_loss: 0.0684 - val_accuracy: 1.0000\n",
            "Epoch 137/200\n",
            "1/1 [==============================] - 0s 265ms/step - loss: 0.0724 - accuracy: 1.0000 - val_loss: 0.2428 - val_accuracy: 0.6667\n",
            "Epoch 138/200\n",
            "1/1 [==============================] - 0s 225ms/step - loss: 0.0633 - accuracy: 1.0000 - val_loss: 0.1883 - val_accuracy: 1.0000\n",
            "Epoch 139/200\n",
            "1/1 [==============================] - 0s 262ms/step - loss: 0.0194 - accuracy: 1.0000 - val_loss: 0.1967 - val_accuracy: 1.0000\n",
            "Epoch 140/200\n",
            "1/1 [==============================] - 0s 236ms/step - loss: 0.0493 - accuracy: 1.0000 - val_loss: 0.0503 - val_accuracy: 1.0000\n",
            "Epoch 141/200\n",
            "1/1 [==============================] - 0s 258ms/step - loss: 0.0594 - accuracy: 1.0000 - val_loss: 0.0734 - val_accuracy: 1.0000\n",
            "Epoch 142/200\n",
            "1/1 [==============================] - 0s 227ms/step - loss: 0.1512 - accuracy: 0.8571 - val_loss: 0.2518 - val_accuracy: 0.6667\n",
            "Epoch 143/200\n",
            "1/1 [==============================] - 0s 260ms/step - loss: 0.0458 - accuracy: 1.0000 - val_loss: 0.0395 - val_accuracy: 1.0000\n",
            "Epoch 144/200\n",
            "1/1 [==============================] - 0s 245ms/step - loss: 0.3428 - accuracy: 0.8571 - val_loss: 0.4517 - val_accuracy: 0.6667\n",
            "Epoch 145/200\n",
            "1/1 [==============================] - 0s 257ms/step - loss: 0.0128 - accuracy: 1.0000 - val_loss: 0.4302 - val_accuracy: 0.6667\n",
            "Epoch 146/200\n",
            "1/1 [==============================] - 0s 235ms/step - loss: 0.0085 - accuracy: 1.0000 - val_loss: 0.0858 - val_accuracy: 1.0000\n",
            "Epoch 147/200\n",
            "1/1 [==============================] - 0s 261ms/step - loss: 0.0121 - accuracy: 1.0000 - val_loss: 0.2749 - val_accuracy: 1.0000\n",
            "Epoch 148/200\n",
            "1/1 [==============================] - 0s 244ms/step - loss: 0.1215 - accuracy: 0.8571 - val_loss: 0.5622 - val_accuracy: 0.6667\n",
            "Epoch 149/200\n",
            "1/1 [==============================] - 0s 281ms/step - loss: 0.2170 - accuracy: 0.8571 - val_loss: 0.7247 - val_accuracy: 0.6667\n",
            "Epoch 150/200\n",
            "1/1 [==============================] - 0s 274ms/step - loss: 0.0897 - accuracy: 1.0000 - val_loss: 0.1545 - val_accuracy: 1.0000\n",
            "Epoch 151/200\n",
            "1/1 [==============================] - 0s 229ms/step - loss: 0.0457 - accuracy: 1.0000 - val_loss: 0.0639 - val_accuracy: 1.0000\n",
            "Epoch 152/200\n",
            "1/1 [==============================] - 0s 259ms/step - loss: 0.0046 - accuracy: 1.0000 - val_loss: 0.2040 - val_accuracy: 1.0000\n",
            "Epoch 153/200\n",
            "1/1 [==============================] - 0s 235ms/step - loss: 0.0365 - accuracy: 1.0000 - val_loss: 0.0667 - val_accuracy: 1.0000\n",
            "Epoch 154/200\n",
            "1/1 [==============================] - 0s 269ms/step - loss: 0.0076 - accuracy: 1.0000 - val_loss: 0.2466 - val_accuracy: 0.6667\n",
            "Epoch 155/200\n",
            "1/1 [==============================] - 0s 238ms/step - loss: 0.3235 - accuracy: 0.8571 - val_loss: 0.0068 - val_accuracy: 1.0000\n",
            "Epoch 156/200\n",
            "1/1 [==============================] - 0s 293ms/step - loss: 0.0050 - accuracy: 1.0000 - val_loss: 0.0182 - val_accuracy: 1.0000\n",
            "Epoch 157/200\n",
            "1/1 [==============================] - 0s 271ms/step - loss: 0.0020 - accuracy: 1.0000 - val_loss: 0.3862 - val_accuracy: 0.6667\n",
            "Epoch 158/200\n",
            "1/1 [==============================] - 0s 308ms/step - loss: 0.0882 - accuracy: 1.0000 - val_loss: 0.2323 - val_accuracy: 1.0000\n",
            "Epoch 159/200\n",
            "1/1 [==============================] - 0s 291ms/step - loss: 0.1103 - accuracy: 1.0000 - val_loss: 0.0746 - val_accuracy: 1.0000\n",
            "Epoch 160/200\n",
            "1/1 [==============================] - 0s 310ms/step - loss: 0.3058 - accuracy: 0.8571 - val_loss: 0.7328 - val_accuracy: 0.6667\n",
            "Epoch 161/200\n",
            "1/1 [==============================] - 0s 295ms/step - loss: 0.4003 - accuracy: 0.8571 - val_loss: 0.1559 - val_accuracy: 1.0000\n",
            "Epoch 162/200\n",
            "1/1 [==============================] - 0s 290ms/step - loss: 0.2757 - accuracy: 0.8571 - val_loss: 0.4173 - val_accuracy: 0.6667\n",
            "Epoch 163/200\n",
            "1/1 [==============================] - 0s 285ms/step - loss: 0.0020 - accuracy: 1.0000 - val_loss: 0.7371 - val_accuracy: 0.6667\n",
            "Epoch 164/200\n",
            "1/1 [==============================] - 0s 253ms/step - loss: 0.2293 - accuracy: 0.8571 - val_loss: 0.1815 - val_accuracy: 1.0000\n",
            "Epoch 165/200\n",
            "1/1 [==============================] - 0s 274ms/step - loss: 0.0093 - accuracy: 1.0000 - val_loss: 0.7252 - val_accuracy: 0.6667\n",
            "Epoch 166/200\n",
            "1/1 [==============================] - 0s 268ms/step - loss: 0.3055 - accuracy: 0.8571 - val_loss: 0.5596 - val_accuracy: 0.6667\n",
            "Epoch 167/200\n",
            "1/1 [==============================] - 0s 235ms/step - loss: 0.0051 - accuracy: 1.0000 - val_loss: 0.2239 - val_accuracy: 1.0000\n",
            "Epoch 168/200\n",
            "1/1 [==============================] - 0s 266ms/step - loss: 0.0559 - accuracy: 1.0000 - val_loss: 0.2317 - val_accuracy: 1.0000\n",
            "Epoch 169/200\n",
            "1/1 [==============================] - 0s 245ms/step - loss: 0.1397 - accuracy: 0.8571 - val_loss: 0.7698 - val_accuracy: 0.6667\n",
            "Epoch 170/200\n",
            "1/1 [==============================] - 0s 259ms/step - loss: 0.0624 - accuracy: 1.0000 - val_loss: 0.1432 - val_accuracy: 1.0000\n",
            "Epoch 171/200\n",
            "1/1 [==============================] - 0s 298ms/step - loss: 0.3700 - accuracy: 0.7143 - val_loss: 0.0337 - val_accuracy: 1.0000\n",
            "Epoch 172/200\n",
            "1/1 [==============================] - 0s 296ms/step - loss: 0.0069 - accuracy: 1.0000 - val_loss: 0.0340 - val_accuracy: 1.0000\n",
            "Epoch 173/200\n",
            "1/1 [==============================] - 0s 239ms/step - loss: 0.1875 - accuracy: 0.8571 - val_loss: 0.1497 - val_accuracy: 1.0000\n",
            "Epoch 174/200\n",
            "1/1 [==============================] - 0s 256ms/step - loss: 0.1224 - accuracy: 1.0000 - val_loss: 0.9686 - val_accuracy: 0.6667\n",
            "Epoch 175/200\n",
            "1/1 [==============================] - 0s 227ms/step - loss: 0.0169 - accuracy: 1.0000 - val_loss: 0.4505 - val_accuracy: 0.6667\n",
            "Epoch 176/200\n",
            "1/1 [==============================] - 0s 260ms/step - loss: 0.1730 - accuracy: 0.8571 - val_loss: 0.3286 - val_accuracy: 0.6667\n",
            "Epoch 177/200\n",
            "1/1 [==============================] - 0s 248ms/step - loss: 0.0022 - accuracy: 1.0000 - val_loss: 0.7452 - val_accuracy: 0.6667\n",
            "Epoch 178/200\n",
            "1/1 [==============================] - 0s 288ms/step - loss: 0.0325 - accuracy: 1.0000 - val_loss: 0.0226 - val_accuracy: 1.0000\n",
            "Epoch 179/200\n",
            "1/1 [==============================] - 0s 266ms/step - loss: 0.0993 - accuracy: 1.0000 - val_loss: 0.0544 - val_accuracy: 1.0000\n",
            "Epoch 180/200\n",
            "1/1 [==============================] - 0s 231ms/step - loss: 0.0145 - accuracy: 1.0000 - val_loss: 0.0485 - val_accuracy: 1.0000\n",
            "Epoch 181/200\n",
            "1/1 [==============================] - 0s 262ms/step - loss: 0.0225 - accuracy: 1.0000 - val_loss: 0.0367 - val_accuracy: 1.0000\n",
            "Epoch 182/200\n",
            "1/1 [==============================] - 0s 284ms/step - loss: 0.1462 - accuracy: 1.0000 - val_loss: 0.0324 - val_accuracy: 1.0000\n",
            "Epoch 183/200\n",
            "1/1 [==============================] - 0s 230ms/step - loss: 0.0569 - accuracy: 1.0000 - val_loss: 0.0193 - val_accuracy: 1.0000\n",
            "Epoch 184/200\n",
            "1/1 [==============================] - 0s 268ms/step - loss: 0.0400 - accuracy: 1.0000 - val_loss: 0.0268 - val_accuracy: 1.0000\n",
            "Epoch 185/200\n",
            "1/1 [==============================] - 0s 253ms/step - loss: 0.2631 - accuracy: 0.8571 - val_loss: 0.1668 - val_accuracy: 1.0000\n",
            "Epoch 186/200\n",
            "1/1 [==============================] - 0s 271ms/step - loss: 0.1057 - accuracy: 1.0000 - val_loss: 0.4445 - val_accuracy: 0.6667\n",
            "Epoch 187/200\n",
            "1/1 [==============================] - 0s 272ms/step - loss: 0.0047 - accuracy: 1.0000 - val_loss: 0.0018 - val_accuracy: 1.0000\n",
            "Epoch 188/200\n",
            "1/1 [==============================] - 0s 243ms/step - loss: 0.0398 - accuracy: 1.0000 - val_loss: 0.0015 - val_accuracy: 1.0000\n",
            "Epoch 189/200\n",
            "1/1 [==============================] - 0s 262ms/step - loss: 0.2074 - accuracy: 0.8571 - val_loss: 0.1459 - val_accuracy: 1.0000\n",
            "Epoch 190/200\n",
            "1/1 [==============================] - 0s 228ms/step - loss: 0.0069 - accuracy: 1.0000 - val_loss: 0.3700 - val_accuracy: 0.6667\n",
            "Epoch 191/200\n",
            "1/1 [==============================] - 0s 261ms/step - loss: 0.0362 - accuracy: 1.0000 - val_loss: 2.1086 - val_accuracy: 0.6667\n",
            "Epoch 192/200\n",
            "1/1 [==============================] - 0s 235ms/step - loss: 0.2542 - accuracy: 0.8571 - val_loss: 0.4381 - val_accuracy: 0.6667\n",
            "Epoch 193/200\n",
            "1/1 [==============================] - 0s 263ms/step - loss: 0.3216 - accuracy: 0.8571 - val_loss: 0.0837 - val_accuracy: 1.0000\n",
            "Epoch 194/200\n",
            "1/1 [==============================] - 0s 235ms/step - loss: 0.0292 - accuracy: 1.0000 - val_loss: 0.2081 - val_accuracy: 1.0000\n",
            "Epoch 195/200\n",
            "1/1 [==============================] - 0s 257ms/step - loss: 0.0037 - accuracy: 1.0000 - val_loss: 0.5651 - val_accuracy: 0.6667\n",
            "Epoch 196/200\n",
            "1/1 [==============================] - 0s 242ms/step - loss: 1.1048 - accuracy: 0.8571 - val_loss: 0.2587 - val_accuracy: 0.6667\n",
            "Epoch 197/200\n",
            "1/1 [==============================] - 0s 268ms/step - loss: 1.8295e-04 - accuracy: 1.0000 - val_loss: 0.5502 - val_accuracy: 0.6667\n",
            "Epoch 198/200\n",
            "1/1 [==============================] - 0s 233ms/step - loss: 0.0097 - accuracy: 1.0000 - val_loss: 0.8886 - val_accuracy: 0.6667\n",
            "Epoch 199/200\n",
            "1/1 [==============================] - 0s 286ms/step - loss: 0.0020 - accuracy: 1.0000 - val_loss: 0.3876 - val_accuracy: 0.6667\n",
            "Epoch 200/200\n",
            "1/1 [==============================] - 0s 282ms/step - loss: 0.1049 - accuracy: 1.0000 - val_loss: 0.2792 - val_accuracy: 0.6667\n"
          ],
          "name": "stdout"
        }
      ]
    },
    {
      "cell_type": "code",
      "metadata": {
        "id": "DUZyhwXhlJKY",
        "colab_type": "code",
        "outputId": "92c2f0e6-138e-4550-a58c-0fbf9581ce0b",
        "colab": {
          "base_uri": "https://localhost:8080/",
          "height": 499
        }
      },
      "source": [
        "acc = history.history['accuracy']\n",
        "val_acc = history.history['val_accuracy']\n",
        "\n",
        "loss = history.history['loss']\n",
        "val_loss = history.history['val_loss']\n",
        "\n",
        "epochs_range = range(epochs)\n",
        "\n",
        "plt.figure(figsize=(8, 8))\n",
        "plt.subplot(1, 2, 1)\n",
        "plt.plot(epochs_range, acc, label='Training Accuracy')\n",
        "plt.plot(epochs_range, val_acc, label='Validation Accuracy')\n",
        "plt.legend(loc='lower right')\n",
        "plt.title('Training and Validation Accuracy')\n",
        "\n",
        "plt.subplot(1, 2, 2)\n",
        "plt.plot(epochs_range, loss, label='Training Loss')\n",
        "plt.plot(epochs_range, val_loss, label='Validation Loss')\n",
        "plt.legend(loc='upper right')\n",
        "plt.title('Training and Validation Loss')\n",
        "plt.show()"
      ],
      "execution_count": 11,
      "outputs": [
        {
          "output_type": "display_data",
          "data": {
            "image/png": "[encoded data removed]",
            "text/plain": [
              "<Figure size 576x576 with 2 Axes>"
            ]
          },
          "metadata": {
            "tags": [],
            "needs_background": "light"
          }
        }
      ]
    },
    {
      "cell_type": "code",
      "metadata": {
        "id": "Okxv3xjLpeIi",
        "colab_type": "code",
        "outputId": "a753456a-2e68-4533-ebe7-c95dc1d00a32",
        "colab": {
          "base_uri": "https://localhost:8080/",
          "height": 34
        }
      },
      "source": [
        "!ls\n",
        "result=None"
      ],
      "execution_count": 50,
      "outputs": [
        {
          "output_type": "stream",
          "text": [
            "desktop.ini  test  train  validate\n"
          ],
          "name": "stdout"
        }
      ]
    },
    {
      "cell_type": "code",
      "metadata": {
        "id": "OYDXpav9py5s",
        "colab_type": "code",
        "outputId": "c76fd7db-4b22-4e3b-8797-d588290d026d",
        "colab": {
          "base_uri": "https://localhost:8080/",
          "height": 34
        }
      },
      "source": [
        "test = image_gen.flow_from_directory(directory=\"test\",\n",
        "                                     batch_size=BATCH_SIZE,\n",
        "                                     target_size=(IMG_SHAPE,IMG_SHAPE))"
      ],
      "execution_count": 12,
      "outputs": [
        {
          "output_type": "stream",
          "text": [
            "Found 1 images belonging to 1 classes.\n"
          ],
          "name": "stdout"
        }
      ]
    },
    {
      "cell_type": "code",
      "metadata": {
        "id": "fTJ4EmLdp1eq",
        "colab_type": "code",
        "colab": {}
      },
      "source": [
        "result=model_2.predict(test)"
      ],
      "execution_count": 0,
      "outputs": []
    },
    {
      "cell_type": "code",
      "metadata": {
        "id": "BizqwPBsp4F5",
        "colab_type": "code",
        "outputId": "aebc1d55-54fa-4afb-c29c-bfbd87999a3a",
        "colab": {
          "base_uri": "https://localhost:8080/",
          "height": 34
        }
      },
      "source": [
        "print(result)"
      ],
      "execution_count": 15,
      "outputs": [
        {
          "output_type": "stream",
          "text": [
            "[[ 1.6187909 -2.308504 ]]\n"
          ],
          "name": "stdout"
        }
      ]
    },
    {
      "cell_type": "code",
      "metadata": {
        "id": "0mIeMz5G917K",
        "colab_type": "code",
        "outputId": "09056562-d569-4906-96f2-c1dac70e3073",
        "colab": {
          "base_uri": "https://localhost:8080/",
          "height": 34
        }
      },
      "source": [
        "print(test)\n",
        "plt.plot(test)"
      ],
      "execution_count": 0,
      "outputs": [
        {
          "output_type": "stream",
          "text": [
            "<keras.preprocessing.image.DirectoryIterator object at 0x7f433cb21e10>\n"
          ],
          "name": "stdout"
        }
      ]
    },
    {
      "cell_type": "code",
      "metadata": {
        "id": "ly3tia4z_b1u",
        "colab_type": "code",
        "outputId": "f9712ba5-1232-4790-ea95-1c68cb00565a",
        "colab": {
          "base_uri": "https://localhost:8080/",
          "height": 34
        }
      },
      "source": [
        "!ls"
      ],
      "execution_count": 0,
      "outputs": [
        {
          "output_type": "stream",
          "text": [
            "desktop.ini  test  train  validate  WIN_20200518_13_38_08_Pro.jpg\n"
          ],
          "name": "stdout"
        }
      ]
    },
    {
      "cell_type": "code",
      "metadata": {
        "id": "AnMwrSsK_eK8",
        "colab_type": "code",
        "outputId": "1f44b06f-b65c-47df-d02a-6f8db4bedc72",
        "colab": {
          "base_uri": "https://localhost:8080/",
          "height": 34
        }
      },
      "source": [
        "%cd train/marish/"
      ],
      "execution_count": 16,
      "outputs": [
        {
          "output_type": "stream",
          "text": [
            "/content/drive/My Drive/project/Camera Roll/train/marish\n"
          ],
          "name": "stdout"
        }
      ]
    },
    {
      "cell_type": "code",
      "metadata": {
        "id": "3DBKpaTj_joP",
        "colab_type": "code",
        "outputId": "d62fee4b-c5ce-4900-89cb-4f7613c7392c",
        "colab": {
          "base_uri": "https://localhost:8080/",
          "height": 51
        }
      },
      "source": [
        "!ls"
      ],
      "execution_count": 59,
      "outputs": [
        {
          "output_type": "stream",
          "text": [
            "WIN_20200514_12_02_24_Pro.jpg  WIN_20200514_12_02_31_Pro.jpg\n",
            "WIN_20200514_12_02_27_Pro.jpg  WIN_20200514_12_02_33_Pro.jpg\n"
          ],
          "name": "stdout"
        }
      ]
    },
    {
      "cell_type": "code",
      "metadata": {
        "id": "wlH5BmHJ-ZOR",
        "colab_type": "code",
        "colab": {}
      },
      "source": [
        "image=Image.open(\"WIN_20200514_12_02_24_Pro.jpg\")"
      ],
      "execution_count": 0,
      "outputs": []
    },
    {
      "cell_type": "code",
      "metadata": {
        "id": "RUJ1p5MwCfNe",
        "colab_type": "code",
        "colab": {}
      },
      "source": [
        "imsize=(224,224)\n",
        "image=image.resize(imsize)"
      ],
      "execution_count": 0,
      "outputs": []
    },
    {
      "cell_type": "code",
      "metadata": {
        "id": "AbTFPyNKC_yJ",
        "colab_type": "code",
        "colab": {}
      },
      "source": [
        "image=keras.preprocessing.image.img_to_array(image)"
      ],
      "execution_count": 0,
      "outputs": []
    },
    {
      "cell_type": "code",
      "metadata": {
        "id": "4nfmfUwBDuWD",
        "colab_type": "code",
        "colab": {}
      },
      "source": [
        "image=np.expand_dims(image,axis=0)"
      ],
      "execution_count": 0,
      "outputs": []
    },
    {
      "cell_type": "code",
      "metadata": {
        "id": "nIydkaW8D_SN",
        "colab_type": "code",
        "colab": {}
      },
      "source": [
        "result=model_2.predict(image)"
      ],
      "execution_count": 0,
      "outputs": []
    },
    {
      "cell_type": "code",
      "metadata": {
        "id": "SMnzb5YWEIjE",
        "colab_type": "code",
        "outputId": "d493211a-34a2-445a-c97a-69e9f73c94af",
        "colab": {
          "base_uri": "https://localhost:8080/",
          "height": 34
        }
      },
      "source": [
        "print(result)"
      ],
      "execution_count": 22,
      "outputs": [
        {
          "output_type": "stream",
          "text": [
            "[[-299.80527  213.86058]]\n"
          ],
          "name": "stdout"
        }
      ]
    },
    {
      "cell_type": "code",
      "metadata": {
        "id": "XrnFz3DOEPdk",
        "colab_type": "code",
        "outputId": "582c88fc-7b9a-4197-9fe1-3aab7e53550a",
        "colab": {
          "base_uri": "https://localhost:8080/",
          "height": 34
        }
      },
      "source": [
        "result[0]"
      ],
      "execution_count": 43,
      "outputs": [
        {
          "output_type": "execute_result",
          "data": {
            "text/plain": [
              "array([nan], dtype=float32)"
            ]
          },
          "metadata": {
            "tags": []
          },
          "execution_count": 43
        }
      ]
    }
  ]
}