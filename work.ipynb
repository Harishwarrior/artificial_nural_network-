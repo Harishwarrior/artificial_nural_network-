{
  "nbformat": 4,
  "nbformat_minor": 0,
  "metadata": {
    "colab": {
      "name": "work.ipynb",
      "provenance": [],
      "mount_file_id": "1D0nuVY4UIa_S6E9w9b2Es8x2z7Yh15mu",
      "authorship_tag": "ABX9TyMjGazoqSiX3yz6eOadVglt",
      "include_colab_link": true
    },
    "kernelspec": {
      "name": "python3",
      "display_name": "Python 3"
    },
    "accelerator": "GPU"
  },
  "cells": [
    {
      "cell_type": "markdown",
      "metadata": {
        "id": "view-in-github",
        "colab_type": "text"
      },
      "source": [
        "<a href=\"https://colab.research.google.com/github/praveenmarish/artificial_nural_network-/blob/master/work.ipynb\" target=\"_parent\"><img src=\"https://colab.research.google.com/assets/colab-badge.svg\" alt=\"Open In Colab\"/></a>"
      ]
    },
    {
      "cell_type": "code",
      "metadata": {
        "id": "P8pnDK8UueyW",
        "colab_type": "code",
        "outputId": "bd29553f-84a6-4dc4-8bb1-82d3ed1b6e2b",
        "colab": {
          "base_uri": "https://localhost:8080/",
          "height": 34
        }
      },
      "source": [
        "import keras\n",
        "import numpy as np\n",
        "import matplotlib.pyplot as plt\n",
        "from PIL import Image"
      ],
      "execution_count": 1,
      "outputs": [
        {
          "output_type": "stream",
          "text": [
            "Using TensorFlow backend.\n"
          ],
          "name": "stderr"
        }
      ]
    },
    {
      "cell_type": "code",
      "metadata": {
        "id": "YFs5DYZh5GoJ",
        "colab_type": "code",
        "outputId": "95314878-0879-4ab8-f97e-162ce7ed461d",
        "colab": {
          "base_uri": "https://localhost:8080/",
          "height": 71
        }
      },
      "source": [
        "model = keras.applications.vgg16.VGG16()"
      ],
      "execution_count": 2,
      "outputs": [
        {
          "output_type": "stream",
          "text": [
            "Downloading data from https://github.com/fchollet/deep-learning-models/releases/download/v0.1/vgg16_weights_tf_dim_ordering_tf_kernels.h5\n",
            "553467904/553467096 [==============================] - 40s 0us/step\n"
          ],
          "name": "stdout"
        }
      ]
    },
    {
      "cell_type": "code",
      "metadata": {
        "id": "Xxig1KMo5cdm",
        "colab_type": "code",
        "outputId": "b0e53ad2-b33a-4059-dc54-bb0e1804635c",
        "colab": {
          "base_uri": "https://localhost:8080/",
          "height": 935
        }
      },
      "source": [
        "model.summary()"
      ],
      "execution_count": 3,
      "outputs": [
        {
          "output_type": "stream",
          "text": [
            "Model: \"vgg16\"\n",
            "_________________________________________________________________\n",
            "Layer (type)                 Output Shape              Param #   \n",
            "=================================================================\n",
            "input_1 (InputLayer)         (None, 224, 224, 3)       0         \n",
            "_________________________________________________________________\n",
            "block1_conv1 (Conv2D)        (None, 224, 224, 64)      1792      \n",
            "_________________________________________________________________\n",
            "block1_conv2 (Conv2D)        (None, 224, 224, 64)      36928     \n",
            "_________________________________________________________________\n",
            "block1_pool (MaxPooling2D)   (None, 112, 112, 64)      0         \n",
            "_________________________________________________________________\n",
            "block2_conv1 (Conv2D)        (None, 112, 112, 128)     73856     \n",
            "_________________________________________________________________\n",
            "block2_conv2 (Conv2D)        (None, 112, 112, 128)     147584    \n",
            "_________________________________________________________________\n",
            "block2_pool (MaxPooling2D)   (None, 56, 56, 128)       0         \n",
            "_________________________________________________________________\n",
            "block3_conv1 (Conv2D)        (None, 56, 56, 256)       295168    \n",
            "_________________________________________________________________\n",
            "block3_conv2 (Conv2D)        (None, 56, 56, 256)       590080    \n",
            "_________________________________________________________________\n",
            "block3_conv3 (Conv2D)        (None, 56, 56, 256)       590080    \n",
            "_________________________________________________________________\n",
            "block3_pool (MaxPooling2D)   (None, 28, 28, 256)       0         \n",
            "_________________________________________________________________\n",
            "block4_conv1 (Conv2D)        (None, 28, 28, 512)       1180160   \n",
            "_________________________________________________________________\n",
            "block4_conv2 (Conv2D)        (None, 28, 28, 512)       2359808   \n",
            "_________________________________________________________________\n",
            "block4_conv3 (Conv2D)        (None, 28, 28, 512)       2359808   \n",
            "_________________________________________________________________\n",
            "block4_pool (MaxPooling2D)   (None, 14, 14, 512)       0         \n",
            "_________________________________________________________________\n",
            "block5_conv1 (Conv2D)        (None, 14, 14, 512)       2359808   \n",
            "_________________________________________________________________\n",
            "block5_conv2 (Conv2D)        (None, 14, 14, 512)       2359808   \n",
            "_________________________________________________________________\n",
            "block5_conv3 (Conv2D)        (None, 14, 14, 512)       2359808   \n",
            "_________________________________________________________________\n",
            "block5_pool (MaxPooling2D)   (None, 7, 7, 512)         0         \n",
            "_________________________________________________________________\n",
            "flatten (Flatten)            (None, 25088)             0         \n",
            "_________________________________________________________________\n",
            "fc1 (Dense)                  (None, 4096)              102764544 \n",
            "_________________________________________________________________\n",
            "fc2 (Dense)                  (None, 4096)              16781312  \n",
            "_________________________________________________________________\n",
            "predictions (Dense)          (None, 1000)              4097000   \n",
            "=================================================================\n",
            "Total params: 138,357,544\n",
            "Trainable params: 138,357,544\n",
            "Non-trainable params: 0\n",
            "_________________________________________________________________\n"
          ],
          "name": "stdout"
        }
      ]
    },
    {
      "cell_type": "code",
      "metadata": {
        "id": "smGBD44c5xFh",
        "colab_type": "code",
        "colab": {}
      },
      "source": [
        "model_1 = keras.models.Sequential()\n",
        "for layer in model.layers:\n",
        "  model_1.add(layer)"
      ],
      "execution_count": 0,
      "outputs": []
    },
    {
      "cell_type": "code",
      "metadata": {
        "id": "Pq-_TfOb7c3Q",
        "colab_type": "code",
        "colab": {}
      },
      "source": [
        "for layer in model_1.layers:\n",
        "  layer.trainable = False"
      ],
      "execution_count": 0,
      "outputs": []
    },
    {
      "cell_type": "code",
      "metadata": {
        "id": "UKA3uEMmAwvd",
        "colab_type": "code",
        "outputId": "eb3be3cb-c57d-40c7-da41-9a6fbe7a4230",
        "colab": {
          "base_uri": "https://localhost:8080/",
          "height": 34
        }
      },
      "source": [
        "model_1._layers.pop()"
      ],
      "execution_count": 6,
      "outputs": [
        {
          "output_type": "execute_result",
          "data": {
            "text/plain": [
              "<keras.layers.core.Dense at 0x7efc90183c18>"
            ]
          },
          "metadata": {
            "tags": []
          },
          "execution_count": 6
        }
      ]
    },
    {
      "cell_type": "code",
      "metadata": {
        "id": "jnvG50QQ7xsl",
        "colab_type": "code",
        "outputId": "dc0e0fb3-b2a9-4cae-c20b-e1e81cfd4546",
        "colab": {
          "base_uri": "https://localhost:8080/",
          "height": 867
        }
      },
      "source": [
        "model_1.summary()"
      ],
      "execution_count": 7,
      "outputs": [
        {
          "output_type": "stream",
          "text": [
            "Model: \"sequential_1\"\n",
            "_________________________________________________________________\n",
            "Layer (type)                 Output Shape              Param #   \n",
            "=================================================================\n",
            "block1_conv1 (Conv2D)        (None, 224, 224, 64)      1792      \n",
            "_________________________________________________________________\n",
            "block1_conv2 (Conv2D)        (None, 224, 224, 64)      36928     \n",
            "_________________________________________________________________\n",
            "block1_pool (MaxPooling2D)   (None, 112, 112, 64)      0         \n",
            "_________________________________________________________________\n",
            "block2_conv1 (Conv2D)        (None, 112, 112, 128)     73856     \n",
            "_________________________________________________________________\n",
            "block2_conv2 (Conv2D)        (None, 112, 112, 128)     147584    \n",
            "_________________________________________________________________\n",
            "block2_pool (MaxPooling2D)   (None, 56, 56, 128)       0         \n",
            "_________________________________________________________________\n",
            "block3_conv1 (Conv2D)        (None, 56, 56, 256)       295168    \n",
            "_________________________________________________________________\n",
            "block3_conv2 (Conv2D)        (None, 56, 56, 256)       590080    \n",
            "_________________________________________________________________\n",
            "block3_conv3 (Conv2D)        (None, 56, 56, 256)       590080    \n",
            "_________________________________________________________________\n",
            "block3_pool (MaxPooling2D)   (None, 28, 28, 256)       0         \n",
            "_________________________________________________________________\n",
            "block4_conv1 (Conv2D)        (None, 28, 28, 512)       1180160   \n",
            "_________________________________________________________________\n",
            "block4_conv2 (Conv2D)        (None, 28, 28, 512)       2359808   \n",
            "_________________________________________________________________\n",
            "block4_conv3 (Conv2D)        (None, 28, 28, 512)       2359808   \n",
            "_________________________________________________________________\n",
            "block4_pool (MaxPooling2D)   (None, 14, 14, 512)       0         \n",
            "_________________________________________________________________\n",
            "block5_conv1 (Conv2D)        (None, 14, 14, 512)       2359808   \n",
            "_________________________________________________________________\n",
            "block5_conv2 (Conv2D)        (None, 14, 14, 512)       2359808   \n",
            "_________________________________________________________________\n",
            "block5_conv3 (Conv2D)        (None, 14, 14, 512)       2359808   \n",
            "_________________________________________________________________\n",
            "block5_pool (MaxPooling2D)   (None, 7, 7, 512)         0         \n",
            "_________________________________________________________________\n",
            "flatten (Flatten)            (None, 25088)             0         \n",
            "_________________________________________________________________\n",
            "fc1 (Dense)                  (None, 4096)              102764544 \n",
            "_________________________________________________________________\n",
            "fc2 (Dense)                  (None, 4096)              16781312  \n",
            "=================================================================\n",
            "Total params: 134,260,544\n",
            "Trainable params: 0\n",
            "Non-trainable params: 134,260,544\n",
            "_________________________________________________________________\n"
          ],
          "name": "stdout"
        }
      ]
    },
    {
      "cell_type": "code",
      "metadata": {
        "id": "ivRk7OV38fa2",
        "colab_type": "code",
        "colab": {}
      },
      "source": [
        "model_1.add(keras.layers.Dense(2,activation=\"softmax\"))"
      ],
      "execution_count": 0,
      "outputs": []
    },
    {
      "cell_type": "code",
      "metadata": {
        "id": "nci81CVnAP9F",
        "colab_type": "code",
        "outputId": "f80ca538-cd2b-4b90-ae36-038606dc518c",
        "colab": {
          "base_uri": "https://localhost:8080/",
          "height": 935
        }
      },
      "source": [
        "model_1.summary()"
      ],
      "execution_count": 9,
      "outputs": [
        {
          "output_type": "stream",
          "text": [
            "Model: \"sequential_1\"\n",
            "_________________________________________________________________\n",
            "Layer (type)                 Output Shape              Param #   \n",
            "=================================================================\n",
            "block1_conv1 (Conv2D)        (None, 224, 224, 64)      1792      \n",
            "_________________________________________________________________\n",
            "block1_conv2 (Conv2D)        (None, 224, 224, 64)      36928     \n",
            "_________________________________________________________________\n",
            "block1_pool (MaxPooling2D)   (None, 112, 112, 64)      0         \n",
            "_________________________________________________________________\n",
            "block2_conv1 (Conv2D)        (None, 112, 112, 128)     73856     \n",
            "_________________________________________________________________\n",
            "block2_conv2 (Conv2D)        (None, 112, 112, 128)     147584    \n",
            "_________________________________________________________________\n",
            "block2_pool (MaxPooling2D)   (None, 56, 56, 128)       0         \n",
            "_________________________________________________________________\n",
            "block3_conv1 (Conv2D)        (None, 56, 56, 256)       295168    \n",
            "_________________________________________________________________\n",
            "block3_conv2 (Conv2D)        (None, 56, 56, 256)       590080    \n",
            "_________________________________________________________________\n",
            "block3_conv3 (Conv2D)        (None, 56, 56, 256)       590080    \n",
            "_________________________________________________________________\n",
            "block3_pool (MaxPooling2D)   (None, 28, 28, 256)       0         \n",
            "_________________________________________________________________\n",
            "block4_conv1 (Conv2D)        (None, 28, 28, 512)       1180160   \n",
            "_________________________________________________________________\n",
            "block4_conv2 (Conv2D)        (None, 28, 28, 512)       2359808   \n",
            "_________________________________________________________________\n",
            "block4_conv3 (Conv2D)        (None, 28, 28, 512)       2359808   \n",
            "_________________________________________________________________\n",
            "block4_pool (MaxPooling2D)   (None, 14, 14, 512)       0         \n",
            "_________________________________________________________________\n",
            "block5_conv1 (Conv2D)        (None, 14, 14, 512)       2359808   \n",
            "_________________________________________________________________\n",
            "block5_conv2 (Conv2D)        (None, 14, 14, 512)       2359808   \n",
            "_________________________________________________________________\n",
            "block5_conv3 (Conv2D)        (None, 14, 14, 512)       2359808   \n",
            "_________________________________________________________________\n",
            "block5_pool (MaxPooling2D)   (None, 7, 7, 512)         0         \n",
            "_________________________________________________________________\n",
            "flatten (Flatten)            (None, 25088)             0         \n",
            "_________________________________________________________________\n",
            "fc1 (Dense)                  (None, 4096)              102764544 \n",
            "_________________________________________________________________\n",
            "fc2 (Dense)                  (None, 4096)              16781312  \n",
            "_________________________________________________________________\n",
            "predictions (Dense)          (None, 1000)              4097000   \n",
            "_________________________________________________________________\n",
            "dense_1 (Dense)              (None, 2)                 2002      \n",
            "=================================================================\n",
            "Total params: 138,359,546\n",
            "Trainable params: 2,002\n",
            "Non-trainable params: 138,357,544\n",
            "_________________________________________________________________\n"
          ],
          "name": "stdout"
        }
      ]
    },
    {
      "cell_type": "code",
      "metadata": {
        "id": "r0EbfgN67ADw",
        "colab_type": "code",
        "colab": {}
      },
      "source": [
        "optimizer = keras.optimizers.Adam(learning_rate=0.0001)\n",
        "model_1.compile(loss='categorical_crossentropy',\n",
        "                  optimizer=optimizer,\n",
        "                  metrics=['accuracy'])"
      ],
      "execution_count": 0,
      "outputs": []
    },
    {
      "cell_type": "code",
      "metadata": {
        "id": "hg_o6pPDQ2sw",
        "colab_type": "code",
        "outputId": "547822fb-aecb-488f-caa2-fa72e01c77f1",
        "colab": {
          "base_uri": "https://localhost:8080/",
          "height": 51
        }
      },
      "source": [
        "!ls\n",
        "%cd drive/My\\ Drive/project/Camera\\ Roll/"
      ],
      "execution_count": 11,
      "outputs": [
        {
          "output_type": "stream",
          "text": [
            "drive  sample_data\n",
            "/content/drive/My Drive/project/Camera Roll\n"
          ],
          "name": "stdout"
        }
      ]
    },
    {
      "cell_type": "code",
      "metadata": {
        "id": "w0HdCYTeSVJs",
        "colab_type": "code",
        "outputId": "a217bf74-9525-4559-dd08-e8806ad2b975",
        "colab": {
          "base_uri": "https://localhost:8080/",
          "height": 34
        }
      },
      "source": [
        "!ls"
      ],
      "execution_count": 0,
      "outputs": [
        {
          "output_type": "stream",
          "text": [
            "desktop.ini  test  train  validate\n"
          ],
          "name": "stdout"
        }
      ]
    },
    {
      "cell_type": "code",
      "metadata": {
        "id": "ubb0iNdM8IxU",
        "colab_type": "code",
        "colab": {}
      },
      "source": [
        "train_dir='train'\n",
        "test_dir='validate'\n",
        "BATCH_SIZE=100\n",
        "IMG_SHAPE  = 224"
      ],
      "execution_count": 0,
      "outputs": []
    },
    {
      "cell_type": "code",
      "metadata": {
        "id": "uMHHGjtgOKDl",
        "colab_type": "code",
        "outputId": "abfff7e6-2f19-4f3a-b495-f8efb51fdc0d",
        "colab": {
          "base_uri": "https://localhost:8080/",
          "height": 34
        }
      },
      "source": [
        "image_gen = keras.preprocessing.image.ImageDataGenerator(rescale=1./255,\n",
        "                                                         horizontal_flip=True,\n",
        "                                                         rotation_range=45,\n",
        "                                                         width_shift_range=.15,\n",
        "                                                         height_shift_range=.15,\n",
        "                                                         zoom_range=0.5)\n",
        "\n",
        "train_data_gen = image_gen.flow_from_directory(batch_size=BATCH_SIZE,\n",
        "                                               directory=train_dir,\n",
        "                                               shuffle=True,\n",
        "                                               target_size=(IMG_SHAPE,IMG_SHAPE))"
      ],
      "execution_count": 13,
      "outputs": [
        {
          "output_type": "stream",
          "text": [
            "Found 7 images belonging to 2 classes.\n"
          ],
          "name": "stdout"
        }
      ]
    },
    {
      "cell_type": "code",
      "metadata": {
        "id": "M05LBoteUsRO",
        "colab_type": "code",
        "outputId": "ccc9581e-2905-4525-e20e-2cd028c28999",
        "colab": {
          "base_uri": "https://localhost:8080/",
          "height": 34
        }
      },
      "source": [
        "image_gen_val = keras.preprocessing.image.ImageDataGenerator(rescale=1./255)\n",
        "\n",
        "validate_data_gen=image_gen.flow_from_directory(batch_size=BATCH_SIZE,\n",
        "                                                directory=test_dir,\n",
        "                                                shuffle=True,\n",
        "                                                target_size=(IMG_SHAPE,IMG_SHAPE))"
      ],
      "execution_count": 14,
      "outputs": [
        {
          "output_type": "stream",
          "text": [
            "Found 3 images belonging to 2 classes.\n"
          ],
          "name": "stdout"
        }
      ]
    },
    {
      "cell_type": "code",
      "metadata": {
        "id": "dJZZeOpxKvJJ",
        "colab_type": "code",
        "colab": {}
      },
      "source": [
        "total_train=7\n",
        "total_valid=3"
      ],
      "execution_count": 0,
      "outputs": []
    },
    {
      "cell_type": "code",
      "metadata": {
        "id": "-S-pVp5AV0uN",
        "colab_type": "code",
        "outputId": "e64ff7b0-d2ba-43b1-89e4-a2fbc8a7b04d",
        "colab": {
          "base_uri": "https://localhost:8080/",
          "height": 1000
        }
      },
      "source": [
        "epochs=100\n",
        "history = model_1.fit_generator(\n",
        "    train_data_gen,\n",
        "    steps_per_epoch=int(np.ceil(total_train / float(BATCH_SIZE))),\n",
        "    epochs=epochs,\n",
        "    validation_data=validate_data_gen,\n",
        "    validation_steps=int(np.ceil(total_valid / float(BATCH_SIZE)))\n",
        ")"
      ],
      "execution_count": 16,
      "outputs": [
        {
          "output_type": "stream",
          "text": [
            "Epoch 1/100\n",
            "1/1 [==============================] - 15s 15s/step - loss: 0.6941 - accuracy: 0.4286 - val_loss: 0.6985 - val_accuracy: 0.3333\n",
            "Epoch 2/100\n",
            "1/1 [==============================] - 0s 85ms/step - loss: 0.6952 - accuracy: 0.4286 - val_loss: 0.6961 - val_accuracy: 0.3333\n",
            "Epoch 3/100\n",
            "1/1 [==============================] - 0s 316ms/step - loss: 0.6948 - accuracy: 0.4286 - val_loss: 0.6990 - val_accuracy: 0.3333\n",
            "Epoch 4/100\n",
            "1/1 [==============================] - 0s 313ms/step - loss: 0.6934 - accuracy: 0.4286 - val_loss: 0.6976 - val_accuracy: 0.3333\n",
            "Epoch 5/100\n",
            "1/1 [==============================] - 0s 294ms/step - loss: 0.6936 - accuracy: 0.4286 - val_loss: 0.6980 - val_accuracy: 0.3333\n",
            "Epoch 6/100\n",
            "1/1 [==============================] - 0s 297ms/step - loss: 0.6936 - accuracy: 0.4286 - val_loss: 0.6983 - val_accuracy: 0.3333\n",
            "Epoch 7/100\n",
            "1/1 [==============================] - 0s 299ms/step - loss: 0.6958 - accuracy: 0.4286 - val_loss: 0.6955 - val_accuracy: 0.3333\n",
            "Epoch 8/100\n",
            "1/1 [==============================] - 0s 301ms/step - loss: 0.6928 - accuracy: 0.4286 - val_loss: 0.6974 - val_accuracy: 0.3333\n",
            "Epoch 9/100\n",
            "1/1 [==============================] - 0s 289ms/step - loss: 0.6964 - accuracy: 0.4286 - val_loss: 0.6942 - val_accuracy: 0.3333\n",
            "Epoch 10/100\n",
            "1/1 [==============================] - 0s 290ms/step - loss: 0.6934 - accuracy: 0.4286 - val_loss: 0.6993 - val_accuracy: 0.3333\n",
            "Epoch 11/100\n",
            "1/1 [==============================] - 0s 308ms/step - loss: 0.6946 - accuracy: 0.4286 - val_loss: 0.6968 - val_accuracy: 0.3333\n",
            "Epoch 12/100\n",
            "1/1 [==============================] - 0s 280ms/step - loss: 0.6956 - accuracy: 0.4286 - val_loss: 0.6996 - val_accuracy: 0.3333\n",
            "Epoch 13/100\n",
            "1/1 [==============================] - 0s 297ms/step - loss: 0.6931 - accuracy: 0.4286 - val_loss: 0.6998 - val_accuracy: 0.0000e+00\n",
            "Epoch 14/100\n",
            "1/1 [==============================] - 0s 307ms/step - loss: 0.6956 - accuracy: 0.4286 - val_loss: 0.6969 - val_accuracy: 0.3333\n",
            "Epoch 15/100\n",
            "1/1 [==============================] - 0s 294ms/step - loss: 0.6942 - accuracy: 0.4286 - val_loss: 0.6956 - val_accuracy: 0.3333\n",
            "Epoch 16/100\n",
            "1/1 [==============================] - 0s 283ms/step - loss: 0.6927 - accuracy: 0.4286 - val_loss: 0.6974 - val_accuracy: 0.0000e+00\n",
            "Epoch 17/100\n",
            "1/1 [==============================] - 0s 300ms/step - loss: 0.6949 - accuracy: 0.4286 - val_loss: 0.6973 - val_accuracy: 0.3333\n",
            "Epoch 18/100\n",
            "1/1 [==============================] - 0s 304ms/step - loss: 0.6936 - accuracy: 0.4286 - val_loss: 0.6964 - val_accuracy: 0.3333\n",
            "Epoch 19/100\n",
            "1/1 [==============================] - 0s 279ms/step - loss: 0.6939 - accuracy: 0.4286 - val_loss: 0.6952 - val_accuracy: 0.3333\n",
            "Epoch 20/100\n",
            "1/1 [==============================] - 0s 300ms/step - loss: 0.6946 - accuracy: 0.4286 - val_loss: 0.6948 - val_accuracy: 0.3333\n",
            "Epoch 21/100\n",
            "1/1 [==============================] - 0s 309ms/step - loss: 0.6942 - accuracy: 0.4286 - val_loss: 0.6985 - val_accuracy: 0.0000e+00\n",
            "Epoch 22/100\n",
            "1/1 [==============================] - 0s 289ms/step - loss: 0.6941 - accuracy: 0.4286 - val_loss: 0.6958 - val_accuracy: 0.3333\n",
            "Epoch 23/100\n",
            "1/1 [==============================] - 0s 304ms/step - loss: 0.6926 - accuracy: 0.4286 - val_loss: 0.6956 - val_accuracy: 0.3333\n",
            "Epoch 24/100\n",
            "1/1 [==============================] - 0s 292ms/step - loss: 0.6942 - accuracy: 0.5714 - val_loss: 0.6955 - val_accuracy: 0.3333\n",
            "Epoch 25/100\n",
            "1/1 [==============================] - 0s 297ms/step - loss: 0.6944 - accuracy: 0.4286 - val_loss: 0.6975 - val_accuracy: 0.0000e+00\n",
            "Epoch 26/100\n",
            "1/1 [==============================] - 0s 297ms/step - loss: 0.6936 - accuracy: 0.4286 - val_loss: 0.6957 - val_accuracy: 0.3333\n",
            "Epoch 27/100\n",
            "1/1 [==============================] - 0s 296ms/step - loss: 0.6936 - accuracy: 0.4286 - val_loss: 0.6953 - val_accuracy: 0.0000e+00\n",
            "Epoch 28/100\n",
            "1/1 [==============================] - 0s 314ms/step - loss: 0.6932 - accuracy: 0.5714 - val_loss: 0.6944 - val_accuracy: 0.0000e+00\n",
            "Epoch 29/100\n",
            "1/1 [==============================] - 0s 270ms/step - loss: 0.6943 - accuracy: 0.2857 - val_loss: 0.6951 - val_accuracy: 0.3333\n",
            "Epoch 30/100\n",
            "1/1 [==============================] - 0s 294ms/step - loss: 0.6929 - accuracy: 0.4286 - val_loss: 0.6972 - val_accuracy: 0.0000e+00\n",
            "Epoch 31/100\n",
            "1/1 [==============================] - 0s 314ms/step - loss: 0.6934 - accuracy: 0.4286 - val_loss: 0.6949 - val_accuracy: 0.3333\n",
            "Epoch 32/100\n",
            "1/1 [==============================] - 0s 285ms/step - loss: 0.6929 - accuracy: 0.5714 - val_loss: 0.6978 - val_accuracy: 0.0000e+00\n",
            "Epoch 33/100\n",
            "1/1 [==============================] - 0s 313ms/step - loss: 0.6940 - accuracy: 0.4286 - val_loss: 0.6937 - val_accuracy: 0.3333\n",
            "Epoch 34/100\n",
            "1/1 [==============================] - 0s 300ms/step - loss: 0.6940 - accuracy: 0.4286 - val_loss: 0.6970 - val_accuracy: 0.0000e+00\n",
            "Epoch 35/100\n",
            "1/1 [==============================] - 0s 293ms/step - loss: 0.6951 - accuracy: 0.2857 - val_loss: 0.6965 - val_accuracy: 0.3333\n",
            "Epoch 36/100\n",
            "1/1 [==============================] - 0s 286ms/step - loss: 0.6918 - accuracy: 0.4286 - val_loss: 0.6955 - val_accuracy: 0.3333\n",
            "Epoch 37/100\n",
            "1/1 [==============================] - 0s 308ms/step - loss: 0.6938 - accuracy: 0.5714 - val_loss: 0.6949 - val_accuracy: 0.0000e+00\n",
            "Epoch 38/100\n",
            "1/1 [==============================] - 0s 316ms/step - loss: 0.6945 - accuracy: 0.2857 - val_loss: 0.6962 - val_accuracy: 0.0000e+00\n",
            "Epoch 39/100\n",
            "1/1 [==============================] - 0s 278ms/step - loss: 0.6913 - accuracy: 0.7143 - val_loss: 0.6940 - val_accuracy: 0.6667\n",
            "Epoch 40/100\n",
            "1/1 [==============================] - 0s 295ms/step - loss: 0.6942 - accuracy: 0.2857 - val_loss: 0.6929 - val_accuracy: 0.6667\n",
            "Epoch 41/100\n",
            "1/1 [==============================] - 0s 314ms/step - loss: 0.6932 - accuracy: 0.5714 - val_loss: 0.6959 - val_accuracy: 0.3333\n",
            "Epoch 42/100\n",
            "1/1 [==============================] - 0s 290ms/step - loss: 0.6931 - accuracy: 0.2857 - val_loss: 0.6954 - val_accuracy: 0.0000e+00\n",
            "Epoch 43/100\n",
            "1/1 [==============================] - 0s 277ms/step - loss: 0.6919 - accuracy: 0.7143 - val_loss: 0.6953 - val_accuracy: 0.0000e+00\n",
            "Epoch 44/100\n",
            "1/1 [==============================] - 0s 296ms/step - loss: 0.6929 - accuracy: 0.2857 - val_loss: 0.6924 - val_accuracy: 0.6667\n",
            "Epoch 45/100\n",
            "1/1 [==============================] - 0s 304ms/step - loss: 0.6944 - accuracy: 0.1429 - val_loss: 0.6940 - val_accuracy: 0.3333\n",
            "Epoch 46/100\n",
            "1/1 [==============================] - 0s 290ms/step - loss: 0.6926 - accuracy: 0.4286 - val_loss: 0.6955 - val_accuracy: 0.0000e+00\n",
            "Epoch 47/100\n",
            "1/1 [==============================] - 0s 298ms/step - loss: 0.6941 - accuracy: 0.2857 - val_loss: 0.6947 - val_accuracy: 0.0000e+00\n",
            "Epoch 48/100\n",
            "1/1 [==============================] - 0s 310ms/step - loss: 0.6925 - accuracy: 0.5714 - val_loss: 0.6940 - val_accuracy: 0.3333\n",
            "Epoch 49/100\n",
            "1/1 [==============================] - 0s 292ms/step - loss: 0.6926 - accuracy: 0.5714 - val_loss: 0.6918 - val_accuracy: 1.0000\n",
            "Epoch 50/100\n",
            "1/1 [==============================] - 0s 304ms/step - loss: 0.6938 - accuracy: 0.5714 - val_loss: 0.6934 - val_accuracy: 0.3333\n",
            "Epoch 51/100\n",
            "1/1 [==============================] - 0s 296ms/step - loss: 0.6941 - accuracy: 0.4286 - val_loss: 0.6940 - val_accuracy: 0.6667\n",
            "Epoch 52/100\n",
            "1/1 [==============================] - 0s 296ms/step - loss: 0.6918 - accuracy: 0.7143 - val_loss: 0.6947 - val_accuracy: 0.6667\n",
            "Epoch 53/100\n",
            "1/1 [==============================] - 0s 292ms/step - loss: 0.6913 - accuracy: 0.7143 - val_loss: 0.6909 - val_accuracy: 0.6667\n",
            "Epoch 54/100\n",
            "1/1 [==============================] - 0s 318ms/step - loss: 0.6931 - accuracy: 0.4286 - val_loss: 0.6928 - val_accuracy: 0.3333\n",
            "Epoch 55/100\n",
            "1/1 [==============================] - 0s 294ms/step - loss: 0.6922 - accuracy: 0.4286 - val_loss: 0.6956 - val_accuracy: 0.0000e+00\n",
            "Epoch 56/100\n",
            "1/1 [==============================] - 0s 274ms/step - loss: 0.6947 - accuracy: 0.1429 - val_loss: 0.6905 - val_accuracy: 1.0000\n",
            "Epoch 57/100\n",
            "1/1 [==============================] - 0s 300ms/step - loss: 0.6923 - accuracy: 0.5714 - val_loss: 0.6940 - val_accuracy: 0.3333\n",
            "Epoch 58/100\n",
            "1/1 [==============================] - 0s 324ms/step - loss: 0.6931 - accuracy: 0.5714 - val_loss: 0.6973 - val_accuracy: 0.0000e+00\n",
            "Epoch 59/100\n",
            "1/1 [==============================] - 0s 278ms/step - loss: 0.6927 - accuracy: 0.5714 - val_loss: 0.6944 - val_accuracy: 0.3333\n",
            "Epoch 60/100\n",
            "1/1 [==============================] - 0s 282ms/step - loss: 0.6925 - accuracy: 0.4286 - val_loss: 0.6943 - val_accuracy: 0.3333\n",
            "Epoch 61/100\n",
            "1/1 [==============================] - 0s 292ms/step - loss: 0.6931 - accuracy: 0.5714 - val_loss: 0.6939 - val_accuracy: 0.3333\n",
            "Epoch 62/100\n",
            "1/1 [==============================] - 0s 295ms/step - loss: 0.6934 - accuracy: 0.5714 - val_loss: 0.6935 - val_accuracy: 0.6667\n",
            "Epoch 63/100\n",
            "1/1 [==============================] - 0s 296ms/step - loss: 0.6940 - accuracy: 0.4286 - val_loss: 0.6943 - val_accuracy: 0.3333\n",
            "Epoch 64/100\n",
            "1/1 [==============================] - 0s 296ms/step - loss: 0.6906 - accuracy: 0.7143 - val_loss: 0.6929 - val_accuracy: 0.6667\n",
            "Epoch 65/100\n",
            "1/1 [==============================] - 0s 318ms/step - loss: 0.6945 - accuracy: 0.4286 - val_loss: 0.6922 - val_accuracy: 0.6667\n",
            "Epoch 66/100\n",
            "1/1 [==============================] - 0s 293ms/step - loss: 0.6905 - accuracy: 0.5714 - val_loss: 0.6931 - val_accuracy: 0.6667\n",
            "Epoch 67/100\n",
            "1/1 [==============================] - 0s 298ms/step - loss: 0.6922 - accuracy: 0.5714 - val_loss: 0.6927 - val_accuracy: 0.6667\n",
            "Epoch 68/100\n",
            "1/1 [==============================] - 0s 318ms/step - loss: 0.6918 - accuracy: 0.5714 - val_loss: 0.6916 - val_accuracy: 0.6667\n",
            "Epoch 69/100\n",
            "1/1 [==============================] - 0s 281ms/step - loss: 0.6943 - accuracy: 0.4286 - val_loss: 0.6935 - val_accuracy: 0.3333\n",
            "Epoch 70/100\n",
            "1/1 [==============================] - 0s 301ms/step - loss: 0.6937 - accuracy: 0.5714 - val_loss: 0.6952 - val_accuracy: 0.6667\n",
            "Epoch 71/100\n",
            "1/1 [==============================] - 0s 296ms/step - loss: 0.6923 - accuracy: 0.5714 - val_loss: 0.6947 - val_accuracy: 0.6667\n",
            "Epoch 72/100\n",
            "1/1 [==============================] - 0s 306ms/step - loss: 0.6931 - accuracy: 0.4286 - val_loss: 0.6946 - val_accuracy: 0.6667\n",
            "Epoch 73/100\n",
            "1/1 [==============================] - 0s 284ms/step - loss: 0.6932 - accuracy: 0.4286 - val_loss: 0.6937 - val_accuracy: 0.6667\n",
            "Epoch 74/100\n",
            "1/1 [==============================] - 0s 289ms/step - loss: 0.6911 - accuracy: 0.5714 - val_loss: 0.6934 - val_accuracy: 0.6667\n",
            "Epoch 75/100\n",
            "1/1 [==============================] - 0s 310ms/step - loss: 0.6939 - accuracy: 0.4286 - val_loss: 0.6920 - val_accuracy: 0.6667\n",
            "Epoch 76/100\n",
            "1/1 [==============================] - 0s 282ms/step - loss: 0.6931 - accuracy: 0.5714 - val_loss: 0.6954 - val_accuracy: 0.6667\n",
            "Epoch 77/100\n",
            "1/1 [==============================] - 0s 295ms/step - loss: 0.6933 - accuracy: 0.5714 - val_loss: 0.6915 - val_accuracy: 0.6667\n",
            "Epoch 78/100\n",
            "1/1 [==============================] - 0s 310ms/step - loss: 0.6926 - accuracy: 0.5714 - val_loss: 0.6917 - val_accuracy: 0.6667\n",
            "Epoch 79/100\n",
            "1/1 [==============================] - 0s 289ms/step - loss: 0.6936 - accuracy: 0.5714 - val_loss: 0.6916 - val_accuracy: 0.6667\n",
            "Epoch 80/100\n",
            "1/1 [==============================] - 0s 289ms/step - loss: 0.6931 - accuracy: 0.5714 - val_loss: 0.6920 - val_accuracy: 0.6667\n",
            "Epoch 81/100\n",
            "1/1 [==============================] - 0s 293ms/step - loss: 0.6911 - accuracy: 0.5714 - val_loss: 0.6938 - val_accuracy: 0.6667\n",
            "Epoch 82/100\n",
            "1/1 [==============================] - 0s 310ms/step - loss: 0.6946 - accuracy: 0.5714 - val_loss: 0.6927 - val_accuracy: 0.6667\n",
            "Epoch 83/100\n",
            "1/1 [==============================] - 0s 293ms/step - loss: 0.6927 - accuracy: 0.5714 - val_loss: 0.6962 - val_accuracy: 0.6667\n",
            "Epoch 84/100\n",
            "1/1 [==============================] - 0s 298ms/step - loss: 0.6931 - accuracy: 0.4286 - val_loss: 0.6915 - val_accuracy: 0.6667\n",
            "Epoch 85/100\n",
            "1/1 [==============================] - 0s 305ms/step - loss: 0.6923 - accuracy: 0.5714 - val_loss: 0.6944 - val_accuracy: 0.6667\n",
            "Epoch 86/100\n",
            "1/1 [==============================] - 0s 296ms/step - loss: 0.6935 - accuracy: 0.5714 - val_loss: 0.6908 - val_accuracy: 0.6667\n",
            "Epoch 87/100\n",
            "1/1 [==============================] - 0s 301ms/step - loss: 0.6913 - accuracy: 0.5714 - val_loss: 0.6931 - val_accuracy: 0.6667\n",
            "Epoch 88/100\n",
            "1/1 [==============================] - 0s 303ms/step - loss: 0.6915 - accuracy: 0.7143 - val_loss: 0.6926 - val_accuracy: 0.6667\n",
            "Epoch 89/100\n",
            "1/1 [==============================] - 0s 288ms/step - loss: 0.6910 - accuracy: 0.5714 - val_loss: 0.6939 - val_accuracy: 0.6667\n",
            "Epoch 90/100\n",
            "1/1 [==============================] - 0s 293ms/step - loss: 0.6927 - accuracy: 0.5714 - val_loss: 0.6923 - val_accuracy: 0.6667\n",
            "Epoch 91/100\n",
            "1/1 [==============================] - 0s 297ms/step - loss: 0.6917 - accuracy: 0.5714 - val_loss: 0.6932 - val_accuracy: 0.6667\n",
            "Epoch 92/100\n",
            "1/1 [==============================] - 0s 313ms/step - loss: 0.6928 - accuracy: 0.5714 - val_loss: 0.6905 - val_accuracy: 0.6667\n",
            "Epoch 93/100\n",
            "1/1 [==============================] - 0s 284ms/step - loss: 0.6916 - accuracy: 0.5714 - val_loss: 0.6929 - val_accuracy: 0.6667\n",
            "Epoch 94/100\n",
            "1/1 [==============================] - 0s 290ms/step - loss: 0.6923 - accuracy: 0.5714 - val_loss: 0.6923 - val_accuracy: 0.6667\n",
            "Epoch 95/100\n",
            "1/1 [==============================] - 0s 316ms/step - loss: 0.6921 - accuracy: 0.5714 - val_loss: 0.6910 - val_accuracy: 0.6667\n",
            "Epoch 96/100\n",
            "1/1 [==============================] - 0s 279ms/step - loss: 0.6926 - accuracy: 0.5714 - val_loss: 0.6929 - val_accuracy: 0.6667\n",
            "Epoch 97/100\n",
            "1/1 [==============================] - 0s 295ms/step - loss: 0.6908 - accuracy: 0.5714 - val_loss: 0.6902 - val_accuracy: 0.6667\n",
            "Epoch 98/100\n",
            "1/1 [==============================] - 0s 296ms/step - loss: 0.6924 - accuracy: 0.5714 - val_loss: 0.6926 - val_accuracy: 0.6667\n",
            "Epoch 99/100\n",
            "1/1 [==============================] - 0s 302ms/step - loss: 0.6931 - accuracy: 0.5714 - val_loss: 0.6923 - val_accuracy: 0.6667\n",
            "Epoch 100/100\n",
            "1/1 [==============================] - 0s 297ms/step - loss: 0.6927 - accuracy: 0.5714 - val_loss: 0.6896 - val_accuracy: 0.6667\n"
          ],
          "name": "stdout"
        }
      ]
    },
    {
      "cell_type": "code",
      "metadata": {
        "id": "1DRumR1WYehb",
        "colab_type": "code",
        "outputId": "dc0a226c-3955-4b2b-cdb5-74106b3c1e8b",
        "colab": {
          "base_uri": "https://localhost:8080/",
          "height": 499
        }
      },
      "source": [
        "acc = history.history['accuracy']\n",
        "val_acc = history.history['val_accuracy']\n",
        "\n",
        "loss = history.history['loss']\n",
        "val_loss = history.history['val_loss']\n",
        "\n",
        "epochs_range = range(epochs)\n",
        "\n",
        "plt.figure(figsize=(8, 8))\n",
        "plt.subplot(1, 2, 1)\n",
        "plt.plot(epochs_range, acc, label='Training Accuracy')\n",
        "plt.plot(epochs_range, val_acc, label='Validation Accuracy')\n",
        "plt.legend(loc='lower right')\n",
        "plt.title('Training and Validation Accuracy')\n",
        "\n",
        "plt.subplot(1, 2, 2)\n",
        "plt.plot(epochs_range, loss, label='Training Loss')\n",
        "plt.plot(epochs_range, val_loss, label='Validation Loss')\n",
        "plt.legend(loc='upper right')\n",
        "plt.title('Training and Validation Loss')\n",
        "plt.show()"
      ],
      "execution_count": 17,
      "outputs": [
        {
          "output_type": "display_data",
          "data": {
            "image/png": "[encoded data removed]",
            "text/plain": [
              "<Figure size 576x576 with 2 Axes>"
            ]
          },
          "metadata": {
            "tags": [],
            "needs_background": "light"
          }
        }
      ]
    },
    {
      "cell_type": "code",
      "metadata": {
        "id": "qRpg-fJfffmr",
        "colab_type": "code",
        "outputId": "9420045d-616e-4d7d-c12e-917d61e3f452",
        "colab": {
          "base_uri": "https://localhost:8080/",
          "height": 34
        }
      },
      "source": [
        "!ls"
      ],
      "execution_count": 0,
      "outputs": [
        {
          "output_type": "stream",
          "text": [
            "desktop.ini  test  train  validate\n"
          ],
          "name": "stdout"
        }
      ]
    },
    {
      "cell_type": "code",
      "metadata": {
        "id": "hepaBqfJwmcQ",
        "colab_type": "code",
        "outputId": "0ccb42b4-5622-4d5c-cf93-4a73935c7cad",
        "colab": {
          "base_uri": "https://localhost:8080/",
          "height": 34
        }
      },
      "source": [
        "test = image_gen.flow_from_directory(directory=\"test\",\n",
        "                                     batch_size=BATCH_SIZE,\n",
        "                                     target_size=(IMG_SHAPE,IMG_SHAPE))"
      ],
      "execution_count": 18,
      "outputs": [
        {
          "output_type": "stream",
          "text": [
            "Found 1 images belonging to 1 classes.\n"
          ],
          "name": "stdout"
        }
      ]
    },
    {
      "cell_type": "code",
      "metadata": {
        "id": "UO2Ft7Lvxpp4",
        "colab_type": "code",
        "colab": {}
      },
      "source": [
        "result=model_1.predict(test)"
      ],
      "execution_count": 0,
      "outputs": []
    },
    {
      "cell_type": "code",
      "metadata": {
        "id": "gbcawCCSyBLX",
        "colab_type": "code",
        "outputId": "9bb24ac2-e0ef-423b-f5e1-6b6741c1a793",
        "colab": {
          "base_uri": "https://localhost:8080/",
          "height": 34
        }
      },
      "source": [
        "result.shape"
      ],
      "execution_count": 0,
      "outputs": [
        {
          "output_type": "execute_result",
          "data": {
            "text/plain": [
              "(1, 2)"
            ]
          },
          "metadata": {
            "tags": []
          },
          "execution_count": 21
        }
      ]
    },
    {
      "cell_type": "code",
      "metadata": {
        "id": "k3AOz2HDyJLX",
        "colab_type": "code",
        "outputId": "5425065d-4b3d-4083-c3b9-3aaa993487ac",
        "colab": {
          "base_uri": "https://localhost:8080/",
          "height": 34
        }
      },
      "source": [
        "result[0]"
      ],
      "execution_count": 21,
      "outputs": [
        {
          "output_type": "execute_result",
          "data": {
            "text/plain": [
              "array([0.4944713, 0.5055287], dtype=float32)"
            ]
          },
          "metadata": {
            "tags": []
          },
          "execution_count": 21
        }
      ]
    },
    {
      "cell_type": "code",
      "metadata": {
        "id": "-eGE2zhWyWt_",
        "colab_type": "code",
        "outputId": "15d69cff-0441-43a0-ddf9-5d9e8572de8f",
        "colab": {
          "base_uri": "https://localhost:8080/",
          "height": 34
        }
      },
      "source": [
        "np.argmax(result[0])"
      ],
      "execution_count": 22,
      "outputs": [
        {
          "output_type": "execute_result",
          "data": {
            "text/plain": [
              "1"
            ]
          },
          "metadata": {
            "tags": []
          },
          "execution_count": 22
        }
      ]
    },
    {
      "cell_type": "code",
      "metadata": {
        "id": "JTeIHoVnylEF",
        "colab_type": "code",
        "outputId": "cac25728-14f6-42d6-afe7-e0dfefb0899b",
        "colab": {
          "base_uri": "https://localhost:8080/",
          "height": 34
        }
      },
      "source": [
        "print(result)"
      ],
      "execution_count": 24,
      "outputs": [
        {
          "output_type": "stream",
          "text": [
            "[[0.4955663 0.5044337]]\n"
          ],
          "name": "stdout"
        }
      ]
    }
  ]
}