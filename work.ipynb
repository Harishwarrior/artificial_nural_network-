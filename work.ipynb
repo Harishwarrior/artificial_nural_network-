{
  "nbformat": 4,
  "nbformat_minor": 0,
  "metadata": {
    "colab": {
      "name": "work.ipynb",
      "provenance": [],
      "mount_file_id": "1D0nuVY4UIa_S6E9w9b2Es8x2z7Yh15mu",
      "authorship_tag": "ABX9TyPUf39EYGivZTmvdNmGfZkX",
      "include_colab_link": true
    },
    "kernelspec": {
      "name": "python3",
      "display_name": "Python 3"
    },
    "accelerator": "GPU"
  },
  "cells": [
    {
      "cell_type": "markdown",
      "metadata": {
        "id": "view-in-github",
        "colab_type": "text"
      },
      "source": [
        "<a href=\"https://colab.research.google.com/github/praveenmarish/artificial_nural_network-/blob/master/work.ipynb\" target=\"_parent\"><img src=\"https://colab.research.google.com/assets/colab-badge.svg\" alt=\"Open In Colab\"/></a>"
      ]
    },
    {
      "cell_type": "code",
      "metadata": {
        "id": "P8pnDK8UueyW",
        "colab_type": "code",
        "colab": {
          "base_uri": "https://localhost:8080/",
          "height": 34
        },
        "outputId": "b0a3e8fb-01f7-4d3c-8271-59acd2ae7fa8"
      },
      "source": [
        "import keras\n",
        "import numpy as np\n",
        "import matplotlib.pyplot as plt"
      ],
      "execution_count": 2,
      "outputs": [
        {
          "output_type": "stream",
          "text": [
            "Using TensorFlow backend.\n"
          ],
          "name": "stderr"
        }
      ]
    },
    {
      "cell_type": "code",
      "metadata": {
        "id": "YFs5DYZh5GoJ",
        "colab_type": "code",
        "colab": {
          "base_uri": "https://localhost:8080/",
          "height": 71
        },
        "outputId": "92cf65e9-b525-4072-838c-d70160d3b6ed"
      },
      "source": [
        "model = keras.applications.vgg16.VGG16()"
      ],
      "execution_count": 3,
      "outputs": [
        {
          "output_type": "stream",
          "text": [
            "Downloading data from https://github.com/fchollet/deep-learning-models/releases/download/v0.1/vgg16_weights_tf_dim_ordering_tf_kernels.h5\n",
            "553467904/553467096 [==============================] - 16s 0us/step\n"
          ],
          "name": "stdout"
        }
      ]
    },
    {
      "cell_type": "code",
      "metadata": {
        "id": "Xxig1KMo5cdm",
        "colab_type": "code",
        "outputId": "13a652fb-f697-4a5a-bbd2-89e184b457ac",
        "colab": {
          "base_uri": "https://localhost:8080/",
          "height": 935
        }
      },
      "source": [
        "model.summary()"
      ],
      "execution_count": 4,
      "outputs": [
        {
          "output_type": "stream",
          "text": [
            "Model: \"vgg16\"\n",
            "_________________________________________________________________\n",
            "Layer (type)                 Output Shape              Param #   \n",
            "=================================================================\n",
            "input_1 (InputLayer)         (None, 224, 224, 3)       0         \n",
            "_________________________________________________________________\n",
            "block1_conv1 (Conv2D)        (None, 224, 224, 64)      1792      \n",
            "_________________________________________________________________\n",
            "block1_conv2 (Conv2D)        (None, 224, 224, 64)      36928     \n",
            "_________________________________________________________________\n",
            "block1_pool (MaxPooling2D)   (None, 112, 112, 64)      0         \n",
            "_________________________________________________________________\n",
            "block2_conv1 (Conv2D)        (None, 112, 112, 128)     73856     \n",
            "_________________________________________________________________\n",
            "block2_conv2 (Conv2D)        (None, 112, 112, 128)     147584    \n",
            "_________________________________________________________________\n",
            "block2_pool (MaxPooling2D)   (None, 56, 56, 128)       0         \n",
            "_________________________________________________________________\n",
            "block3_conv1 (Conv2D)        (None, 56, 56, 256)       295168    \n",
            "_________________________________________________________________\n",
            "block3_conv2 (Conv2D)        (None, 56, 56, 256)       590080    \n",
            "_________________________________________________________________\n",
            "block3_conv3 (Conv2D)        (None, 56, 56, 256)       590080    \n",
            "_________________________________________________________________\n",
            "block3_pool (MaxPooling2D)   (None, 28, 28, 256)       0         \n",
            "_________________________________________________________________\n",
            "block4_conv1 (Conv2D)        (None, 28, 28, 512)       1180160   \n",
            "_________________________________________________________________\n",
            "block4_conv2 (Conv2D)        (None, 28, 28, 512)       2359808   \n",
            "_________________________________________________________________\n",
            "block4_conv3 (Conv2D)        (None, 28, 28, 512)       2359808   \n",
            "_________________________________________________________________\n",
            "block4_pool (MaxPooling2D)   (None, 14, 14, 512)       0         \n",
            "_________________________________________________________________\n",
            "block5_conv1 (Conv2D)        (None, 14, 14, 512)       2359808   \n",
            "_________________________________________________________________\n",
            "block5_conv2 (Conv2D)        (None, 14, 14, 512)       2359808   \n",
            "_________________________________________________________________\n",
            "block5_conv3 (Conv2D)        (None, 14, 14, 512)       2359808   \n",
            "_________________________________________________________________\n",
            "block5_pool (MaxPooling2D)   (None, 7, 7, 512)         0         \n",
            "_________________________________________________________________\n",
            "flatten (Flatten)            (None, 25088)             0         \n",
            "_________________________________________________________________\n",
            "fc1 (Dense)                  (None, 4096)              102764544 \n",
            "_________________________________________________________________\n",
            "fc2 (Dense)                  (None, 4096)              16781312  \n",
            "_________________________________________________________________\n",
            "predictions (Dense)          (None, 1000)              4097000   \n",
            "=================================================================\n",
            "Total params: 138,357,544\n",
            "Trainable params: 138,357,544\n",
            "Non-trainable params: 0\n",
            "_________________________________________________________________\n"
          ],
          "name": "stdout"
        }
      ]
    },
    {
      "cell_type": "code",
      "metadata": {
        "id": "smGBD44c5xFh",
        "colab_type": "code",
        "colab": {}
      },
      "source": [
        "model_1 = keras.models.Sequential()\n",
        "for layer in model.layers:\n",
        "  model_1.add(layer)"
      ],
      "execution_count": 0,
      "outputs": []
    },
    {
      "cell_type": "code",
      "metadata": {
        "id": "Pq-_TfOb7c3Q",
        "colab_type": "code",
        "colab": {}
      },
      "source": [
        "for layer in model_1.layers:\n",
        "  layer.trainable = False"
      ],
      "execution_count": 0,
      "outputs": []
    },
    {
      "cell_type": "code",
      "metadata": {
        "id": "jnvG50QQ7xsl",
        "colab_type": "code",
        "outputId": "f2e806ec-e028-4f8b-d134-e6372f96dfa8",
        "colab": {
          "base_uri": "https://localhost:8080/",
          "height": 901
        }
      },
      "source": [
        "model_1.summary()"
      ],
      "execution_count": 7,
      "outputs": [
        {
          "output_type": "stream",
          "text": [
            "Model: \"sequential_1\"\n",
            "_________________________________________________________________\n",
            "Layer (type)                 Output Shape              Param #   \n",
            "=================================================================\n",
            "block1_conv1 (Conv2D)        (None, 224, 224, 64)      1792      \n",
            "_________________________________________________________________\n",
            "block1_conv2 (Conv2D)        (None, 224, 224, 64)      36928     \n",
            "_________________________________________________________________\n",
            "block1_pool (MaxPooling2D)   (None, 112, 112, 64)      0         \n",
            "_________________________________________________________________\n",
            "block2_conv1 (Conv2D)        (None, 112, 112, 128)     73856     \n",
            "_________________________________________________________________\n",
            "block2_conv2 (Conv2D)        (None, 112, 112, 128)     147584    \n",
            "_________________________________________________________________\n",
            "block2_pool (MaxPooling2D)   (None, 56, 56, 128)       0         \n",
            "_________________________________________________________________\n",
            "block3_conv1 (Conv2D)        (None, 56, 56, 256)       295168    \n",
            "_________________________________________________________________\n",
            "block3_conv2 (Conv2D)        (None, 56, 56, 256)       590080    \n",
            "_________________________________________________________________\n",
            "block3_conv3 (Conv2D)        (None, 56, 56, 256)       590080    \n",
            "_________________________________________________________________\n",
            "block3_pool (MaxPooling2D)   (None, 28, 28, 256)       0         \n",
            "_________________________________________________________________\n",
            "block4_conv1 (Conv2D)        (None, 28, 28, 512)       1180160   \n",
            "_________________________________________________________________\n",
            "block4_conv2 (Conv2D)        (None, 28, 28, 512)       2359808   \n",
            "_________________________________________________________________\n",
            "block4_conv3 (Conv2D)        (None, 28, 28, 512)       2359808   \n",
            "_________________________________________________________________\n",
            "block4_pool (MaxPooling2D)   (None, 14, 14, 512)       0         \n",
            "_________________________________________________________________\n",
            "block5_conv1 (Conv2D)        (None, 14, 14, 512)       2359808   \n",
            "_________________________________________________________________\n",
            "block5_conv2 (Conv2D)        (None, 14, 14, 512)       2359808   \n",
            "_________________________________________________________________\n",
            "block5_conv3 (Conv2D)        (None, 14, 14, 512)       2359808   \n",
            "_________________________________________________________________\n",
            "block5_pool (MaxPooling2D)   (None, 7, 7, 512)         0         \n",
            "_________________________________________________________________\n",
            "flatten (Flatten)            (None, 25088)             0         \n",
            "_________________________________________________________________\n",
            "fc1 (Dense)                  (None, 4096)              102764544 \n",
            "_________________________________________________________________\n",
            "fc2 (Dense)                  (None, 4096)              16781312  \n",
            "_________________________________________________________________\n",
            "predictions (Dense)          (None, 1000)              4097000   \n",
            "=================================================================\n",
            "Total params: 138,357,544\n",
            "Trainable params: 0\n",
            "Non-trainable params: 138,357,544\n",
            "_________________________________________________________________\n"
          ],
          "name": "stdout"
        }
      ]
    },
    {
      "cell_type": "code",
      "metadata": {
        "id": "UKA3uEMmAwvd",
        "colab_type": "code",
        "outputId": "a3eeb032-2f5f-4f00-b298-3c097e824883",
        "colab": {
          "base_uri": "https://localhost:8080/",
          "height": 34
        }
      },
      "source": [
        "model_1._layers.pop()"
      ],
      "execution_count": 8,
      "outputs": [
        {
          "output_type": "execute_result",
          "data": {
            "text/plain": [
              "<keras.layers.core.Dense at 0x7f62f01d87b8>"
            ]
          },
          "metadata": {
            "tags": []
          },
          "execution_count": 8
        }
      ]
    },
    {
      "cell_type": "code",
      "metadata": {
        "id": "ivRk7OV38fa2",
        "colab_type": "code",
        "colab": {}
      },
      "source": [
        "model_1.add(keras.layers.Dense(2,activation=\"softmax\"))"
      ],
      "execution_count": 0,
      "outputs": []
    },
    {
      "cell_type": "code",
      "metadata": {
        "id": "nci81CVnAP9F",
        "colab_type": "code",
        "outputId": "8da1ca85-1cf2-4123-ce8a-6019f40a17c2",
        "colab": {
          "base_uri": "https://localhost:8080/",
          "height": 935
        }
      },
      "source": [
        "model_1.summary()"
      ],
      "execution_count": 10,
      "outputs": [
        {
          "output_type": "stream",
          "text": [
            "Model: \"sequential_1\"\n",
            "_________________________________________________________________\n",
            "Layer (type)                 Output Shape              Param #   \n",
            "=================================================================\n",
            "block1_conv1 (Conv2D)        (None, 224, 224, 64)      1792      \n",
            "_________________________________________________________________\n",
            "block1_conv2 (Conv2D)        (None, 224, 224, 64)      36928     \n",
            "_________________________________________________________________\n",
            "block1_pool (MaxPooling2D)   (None, 112, 112, 64)      0         \n",
            "_________________________________________________________________\n",
            "block2_conv1 (Conv2D)        (None, 112, 112, 128)     73856     \n",
            "_________________________________________________________________\n",
            "block2_conv2 (Conv2D)        (None, 112, 112, 128)     147584    \n",
            "_________________________________________________________________\n",
            "block2_pool (MaxPooling2D)   (None, 56, 56, 128)       0         \n",
            "_________________________________________________________________\n",
            "block3_conv1 (Conv2D)        (None, 56, 56, 256)       295168    \n",
            "_________________________________________________________________\n",
            "block3_conv2 (Conv2D)        (None, 56, 56, 256)       590080    \n",
            "_________________________________________________________________\n",
            "block3_conv3 (Conv2D)        (None, 56, 56, 256)       590080    \n",
            "_________________________________________________________________\n",
            "block3_pool (MaxPooling2D)   (None, 28, 28, 256)       0         \n",
            "_________________________________________________________________\n",
            "block4_conv1 (Conv2D)        (None, 28, 28, 512)       1180160   \n",
            "_________________________________________________________________\n",
            "block4_conv2 (Conv2D)        (None, 28, 28, 512)       2359808   \n",
            "_________________________________________________________________\n",
            "block4_conv3 (Conv2D)        (None, 28, 28, 512)       2359808   \n",
            "_________________________________________________________________\n",
            "block4_pool (MaxPooling2D)   (None, 14, 14, 512)       0         \n",
            "_________________________________________________________________\n",
            "block5_conv1 (Conv2D)        (None, 14, 14, 512)       2359808   \n",
            "_________________________________________________________________\n",
            "block5_conv2 (Conv2D)        (None, 14, 14, 512)       2359808   \n",
            "_________________________________________________________________\n",
            "block5_conv3 (Conv2D)        (None, 14, 14, 512)       2359808   \n",
            "_________________________________________________________________\n",
            "block5_pool (MaxPooling2D)   (None, 7, 7, 512)         0         \n",
            "_________________________________________________________________\n",
            "flatten (Flatten)            (None, 25088)             0         \n",
            "_________________________________________________________________\n",
            "fc1 (Dense)                  (None, 4096)              102764544 \n",
            "_________________________________________________________________\n",
            "fc2 (Dense)                  (None, 4096)              16781312  \n",
            "_________________________________________________________________\n",
            "predictions (Dense)          (None, 1000)              4097000   \n",
            "_________________________________________________________________\n",
            "dense_1 (Dense)              (None, 2)                 2002      \n",
            "=================================================================\n",
            "Total params: 138,359,546\n",
            "Trainable params: 2,002\n",
            "Non-trainable params: 138,357,544\n",
            "_________________________________________________________________\n"
          ],
          "name": "stdout"
        }
      ]
    },
    {
      "cell_type": "code",
      "metadata": {
        "id": "r0EbfgN67ADw",
        "colab_type": "code",
        "colab": {}
      },
      "source": [
        "optimizer = keras.optimizers.Adam(learning_rate=0.0001)\n",
        "model_1.compile(loss='categorical_crossentropy',\n",
        "                  optimizer=optimizer,\n",
        "                  metrics=['accuracy'])"
      ],
      "execution_count": 0,
      "outputs": []
    },
    {
      "cell_type": "code",
      "metadata": {
        "id": "hg_o6pPDQ2sw",
        "colab_type": "code",
        "outputId": "978b5ebb-1fe7-42bc-c5f7-ef14bc64e5a0",
        "colab": {
          "base_uri": "https://localhost:8080/",
          "height": 51
        }
      },
      "source": [
        "!ls\n",
        "%cd drive/My\\ Drive/project/Camera\\ Roll/"
      ],
      "execution_count": 13,
      "outputs": [
        {
          "output_type": "stream",
          "text": [
            "drive  sample_data\n",
            "/content/drive/My Drive/project/Camera Roll\n"
          ],
          "name": "stdout"
        }
      ]
    },
    {
      "cell_type": "code",
      "metadata": {
        "id": "w0HdCYTeSVJs",
        "colab_type": "code",
        "colab": {
          "base_uri": "https://localhost:8080/",
          "height": 34
        },
        "outputId": "49708875-1944-44e8-86f8-1d295c2fe041"
      },
      "source": [
        "!ls"
      ],
      "execution_count": 14,
      "outputs": [
        {
          "output_type": "stream",
          "text": [
            "desktop.ini  test  train  validate\n"
          ],
          "name": "stdout"
        }
      ]
    },
    {
      "cell_type": "code",
      "metadata": {
        "id": "ubb0iNdM8IxU",
        "colab_type": "code",
        "colab": {}
      },
      "source": [
        "train_dir='train'\n",
        "test_dir='validate'"
      ],
      "execution_count": 0,
      "outputs": []
    },
    {
      "cell_type": "code",
      "metadata": {
        "id": "uMHHGjtgOKDl",
        "colab_type": "code",
        "outputId": "238953f3-7a00-4657-8d31-31acede9aec1",
        "colab": {
          "base_uri": "https://localhost:8080/",
          "height": 34
        }
      },
      "source": [
        "image_gen = keras.preprocessing.image.ImageDataGenerator(rescale=1./255, horizontal_flip=True)\n",
        "BATCH_SIZE=100\n",
        "IMG_SHAPE  = 224\n",
        "train_data_gen = image_gen.flow_from_directory(batch_size=BATCH_SIZE,\n",
        "                                               directory=train_dir,\n",
        "                                               shuffle=True,\n",
        "                                               target_size=(IMG_SHAPE,IMG_SHAPE))"
      ],
      "execution_count": 16,
      "outputs": [
        {
          "output_type": "stream",
          "text": [
            "Found 3 images belonging to 2 classes.\n"
          ],
          "name": "stdout"
        }
      ]
    },
    {
      "cell_type": "code",
      "metadata": {
        "id": "M05LBoteUsRO",
        "colab_type": "code",
        "outputId": "b1f8b36c-332b-4156-ba4c-732fbe0727c6",
        "colab": {
          "base_uri": "https://localhost:8080/",
          "height": 34
        }
      },
      "source": [
        "validate_data_gen=image_gen.flow_from_directory(batch_size=BATCH_SIZE,\n",
        "                                                directory=test_dir,\n",
        "                                                shuffle=True,\n",
        "                                                target_size=(IMG_SHAPE,IMG_SHAPE))"
      ],
      "execution_count": 17,
      "outputs": [
        {
          "output_type": "stream",
          "text": [
            "Found 2 images belonging to 2 classes.\n"
          ],
          "name": "stdout"
        }
      ]
    },
    {
      "cell_type": "code",
      "metadata": {
        "id": "-S-pVp5AV0uN",
        "colab_type": "code",
        "outputId": "cff212d8-9241-47c5-f6d9-9c02b473d5b8",
        "colab": {
          "base_uri": "https://localhost:8080/",
          "height": 1000
        }
      },
      "source": [
        "epochs=100\n",
        "history = model_1.fit_generator(\n",
        "    train_data_gen,\n",
        "    steps_per_epoch=int(np.ceil(3 / float(BATCH_SIZE))),\n",
        "    epochs=epochs,\n",
        "    validation_data=validate_data_gen,\n",
        "    validation_steps=int(np.ceil(2 / float(BATCH_SIZE)))\n",
        ")"
      ],
      "execution_count": 18,
      "outputs": [
        {
          "output_type": "stream",
          "text": [
            "Epoch 1/100\n",
            "1/1 [==============================] - 11s 11s/step - loss: 0.6998 - accuracy: 0.0000e+00 - val_loss: 0.7000 - val_accuracy: 0.0000e+00\n",
            "Epoch 2/100\n",
            "1/1 [==============================] - 0s 118ms/step - loss: 0.6996 - accuracy: 0.0000e+00 - val_loss: 0.6996 - val_accuracy: 0.0000e+00\n",
            "Epoch 3/100\n",
            "1/1 [==============================] - 0s 156ms/step - loss: 0.6994 - accuracy: 0.0000e+00 - val_loss: 0.6996 - val_accuracy: 0.0000e+00\n",
            "Epoch 4/100\n",
            "1/1 [==============================] - 0s 111ms/step - loss: 0.6993 - accuracy: 0.0000e+00 - val_loss: 0.6992 - val_accuracy: 0.0000e+00\n",
            "Epoch 5/100\n",
            "1/1 [==============================] - 0s 147ms/step - loss: 0.6991 - accuracy: 0.0000e+00 - val_loss: 0.6990 - val_accuracy: 0.0000e+00\n",
            "Epoch 6/100\n",
            "1/1 [==============================] - 0s 122ms/step - loss: 0.6988 - accuracy: 0.0000e+00 - val_loss: 0.6988 - val_accuracy: 0.0000e+00\n",
            "Epoch 7/100\n",
            "1/1 [==============================] - 0s 110ms/step - loss: 0.6986 - accuracy: 0.0000e+00 - val_loss: 0.6986 - val_accuracy: 0.0000e+00\n",
            "Epoch 8/100\n",
            "1/1 [==============================] - 0s 150ms/step - loss: 0.6984 - accuracy: 0.0000e+00 - val_loss: 0.6986 - val_accuracy: 0.0000e+00\n",
            "Epoch 9/100\n",
            "1/1 [==============================] - 0s 125ms/step - loss: 0.6984 - accuracy: 0.0000e+00 - val_loss: 0.6984 - val_accuracy: 0.0000e+00\n",
            "Epoch 10/100\n",
            "1/1 [==============================] - 0s 112ms/step - loss: 0.6981 - accuracy: 0.0000e+00 - val_loss: 0.6982 - val_accuracy: 0.0000e+00\n",
            "Epoch 11/100\n",
            "1/1 [==============================] - 0s 151ms/step - loss: 0.6979 - accuracy: 0.0000e+00 - val_loss: 0.6978 - val_accuracy: 0.0000e+00\n",
            "Epoch 12/100\n",
            "1/1 [==============================] - 0s 126ms/step - loss: 0.6976 - accuracy: 0.0000e+00 - val_loss: 0.6976 - val_accuracy: 0.0000e+00\n",
            "Epoch 13/100\n",
            "1/1 [==============================] - 0s 110ms/step - loss: 0.6975 - accuracy: 0.0000e+00 - val_loss: 0.6974 - val_accuracy: 0.0000e+00\n",
            "Epoch 14/100\n",
            "1/1 [==============================] - 0s 158ms/step - loss: 0.6972 - accuracy: 0.0000e+00 - val_loss: 0.6974 - val_accuracy: 0.0000e+00\n",
            "Epoch 15/100\n",
            "1/1 [==============================] - 0s 133ms/step - loss: 0.6970 - accuracy: 0.0000e+00 - val_loss: 0.6972 - val_accuracy: 0.0000e+00\n",
            "Epoch 16/100\n",
            "1/1 [==============================] - 0s 105ms/step - loss: 0.6968 - accuracy: 0.0000e+00 - val_loss: 0.6970 - val_accuracy: 0.0000e+00\n",
            "Epoch 17/100\n",
            "1/1 [==============================] - 0s 153ms/step - loss: 0.6966 - accuracy: 0.0000e+00 - val_loss: 0.6966 - val_accuracy: 0.0000e+00\n",
            "Epoch 18/100\n",
            "1/1 [==============================] - 0s 140ms/step - loss: 0.6964 - accuracy: 0.0000e+00 - val_loss: 0.6964 - val_accuracy: 0.0000e+00\n",
            "Epoch 19/100\n",
            "1/1 [==============================] - 0s 113ms/step - loss: 0.6962 - accuracy: 0.0000e+00 - val_loss: 0.6962 - val_accuracy: 0.0000e+00\n",
            "Epoch 20/100\n",
            "1/1 [==============================] - 0s 142ms/step - loss: 0.6960 - accuracy: 0.0000e+00 - val_loss: 0.6962 - val_accuracy: 0.0000e+00\n",
            "Epoch 21/100\n",
            "1/1 [==============================] - 0s 136ms/step - loss: 0.6958 - accuracy: 0.0000e+00 - val_loss: 0.6960 - val_accuracy: 0.0000e+00\n",
            "Epoch 22/100\n",
            "1/1 [==============================] - 0s 108ms/step - loss: 0.6957 - accuracy: 0.0000e+00 - val_loss: 0.6958 - val_accuracy: 0.0000e+00\n",
            "Epoch 23/100\n",
            "1/1 [==============================] - 0s 143ms/step - loss: 0.6955 - accuracy: 0.0000e+00 - val_loss: 0.6956 - val_accuracy: 0.0000e+00\n",
            "Epoch 24/100\n",
            "1/1 [==============================] - 0s 142ms/step - loss: 0.6953 - accuracy: 0.0000e+00 - val_loss: 0.6952 - val_accuracy: 0.0000e+00\n",
            "Epoch 25/100\n",
            "1/1 [==============================] - 0s 109ms/step - loss: 0.6951 - accuracy: 0.0000e+00 - val_loss: 0.6952 - val_accuracy: 0.0000e+00\n",
            "Epoch 26/100\n",
            "1/1 [==============================] - 0s 140ms/step - loss: 0.6949 - accuracy: 0.0000e+00 - val_loss: 0.6948 - val_accuracy: 0.0000e+00\n",
            "Epoch 27/100\n",
            "1/1 [==============================] - 0s 140ms/step - loss: 0.6946 - accuracy: 0.0000e+00 - val_loss: 0.6946 - val_accuracy: 0.0000e+00\n",
            "Epoch 28/100\n",
            "1/1 [==============================] - 0s 109ms/step - loss: 0.6945 - accuracy: 0.0000e+00 - val_loss: 0.6946 - val_accuracy: 0.0000e+00\n",
            "Epoch 29/100\n",
            "1/1 [==============================] - 0s 144ms/step - loss: 0.6942 - accuracy: 0.0000e+00 - val_loss: 0.6942 - val_accuracy: 0.0000e+00\n",
            "Epoch 30/100\n",
            "1/1 [==============================] - 0s 139ms/step - loss: 0.6940 - accuracy: 0.0000e+00 - val_loss: 0.6942 - val_accuracy: 0.0000e+00\n",
            "Epoch 31/100\n",
            "1/1 [==============================] - 0s 105ms/step - loss: 0.6939 - accuracy: 0.3333 - val_loss: 0.6938 - val_accuracy: 0.0000e+00\n",
            "Epoch 32/100\n",
            "1/1 [==============================] - 0s 137ms/step - loss: 0.6937 - accuracy: 0.3333 - val_loss: 0.6938 - val_accuracy: 0.0000e+00\n",
            "Epoch 33/100\n",
            "1/1 [==============================] - 0s 112ms/step - loss: 0.6934 - accuracy: 0.6667 - val_loss: 0.6934 - val_accuracy: 0.5000\n",
            "Epoch 34/100\n",
            "1/1 [==============================] - 0s 130ms/step - loss: 0.6932 - accuracy: 0.6667 - val_loss: 0.6932 - val_accuracy: 0.5000\n",
            "Epoch 35/100\n",
            "1/1 [==============================] - 0s 139ms/step - loss: 0.6930 - accuracy: 0.6667 - val_loss: 0.6932 - val_accuracy: 0.5000\n",
            "Epoch 36/100\n",
            "1/1 [==============================] - 0s 115ms/step - loss: 0.6929 - accuracy: 0.6667 - val_loss: 0.6930 - val_accuracy: 0.5000\n",
            "Epoch 37/100\n",
            "1/1 [==============================] - 0s 112ms/step - loss: 0.6926 - accuracy: 0.6667 - val_loss: 0.6926 - val_accuracy: 1.0000\n",
            "Epoch 38/100\n",
            "1/1 [==============================] - 0s 131ms/step - loss: 0.6925 - accuracy: 0.6667 - val_loss: 0.6923 - val_accuracy: 1.0000\n",
            "Epoch 39/100\n",
            "1/1 [==============================] - 0s 145ms/step - loss: 0.6922 - accuracy: 0.6667 - val_loss: 0.6921 - val_accuracy: 1.0000\n",
            "Epoch 40/100\n",
            "1/1 [==============================] - 0s 110ms/step - loss: 0.6921 - accuracy: 0.6667 - val_loss: 0.6922 - val_accuracy: 1.0000\n",
            "Epoch 41/100\n",
            "1/1 [==============================] - 0s 147ms/step - loss: 0.6919 - accuracy: 0.6667 - val_loss: 0.6917 - val_accuracy: 1.0000\n",
            "Epoch 42/100\n",
            "1/1 [==============================] - 0s 117ms/step - loss: 0.6917 - accuracy: 1.0000 - val_loss: 0.6918 - val_accuracy: 1.0000\n",
            "Epoch 43/100\n",
            "1/1 [==============================] - 0s 128ms/step - loss: 0.6914 - accuracy: 1.0000 - val_loss: 0.6916 - val_accuracy: 1.0000\n",
            "Epoch 44/100\n",
            "1/1 [==============================] - 0s 109ms/step - loss: 0.6911 - accuracy: 1.0000 - val_loss: 0.6914 - val_accuracy: 1.0000\n",
            "Epoch 45/100\n",
            "1/1 [==============================] - 0s 149ms/step - loss: 0.6910 - accuracy: 1.0000 - val_loss: 0.6909 - val_accuracy: 1.0000\n",
            "Epoch 46/100\n",
            "1/1 [==============================] - 0s 108ms/step - loss: 0.6909 - accuracy: 1.0000 - val_loss: 0.6908 - val_accuracy: 1.0000\n",
            "Epoch 47/100\n",
            "1/1 [==============================] - 0s 120ms/step - loss: 0.6907 - accuracy: 1.0000 - val_loss: 0.6906 - val_accuracy: 1.0000\n",
            "Epoch 48/100\n",
            "1/1 [==============================] - 0s 115ms/step - loss: 0.6903 - accuracy: 1.0000 - val_loss: 0.6903 - val_accuracy: 1.0000\n",
            "Epoch 49/100\n",
            "1/1 [==============================] - 0s 111ms/step - loss: 0.6903 - accuracy: 1.0000 - val_loss: 0.6902 - val_accuracy: 1.0000\n",
            "Epoch 50/100\n",
            "1/1 [==============================] - 0s 131ms/step - loss: 0.6900 - accuracy: 1.0000 - val_loss: 0.6902 - val_accuracy: 1.0000\n",
            "Epoch 51/100\n",
            "1/1 [==============================] - 0s 152ms/step - loss: 0.6898 - accuracy: 1.0000 - val_loss: 0.6900 - val_accuracy: 1.0000\n",
            "Epoch 52/100\n",
            "1/1 [==============================] - 0s 107ms/step - loss: 0.6897 - accuracy: 1.0000 - val_loss: 0.6898 - val_accuracy: 1.0000\n",
            "Epoch 53/100\n",
            "1/1 [==============================] - 0s 153ms/step - loss: 0.6895 - accuracy: 1.0000 - val_loss: 0.6896 - val_accuracy: 1.0000\n",
            "Epoch 54/100\n",
            "1/1 [==============================] - 0s 131ms/step - loss: 0.6892 - accuracy: 1.0000 - val_loss: 0.6894 - val_accuracy: 1.0000\n",
            "Epoch 55/100\n",
            "1/1 [==============================] - 0s 115ms/step - loss: 0.6891 - accuracy: 1.0000 - val_loss: 0.6892 - val_accuracy: 1.0000\n",
            "Epoch 56/100\n",
            "1/1 [==============================] - 0s 132ms/step - loss: 0.6887 - accuracy: 1.0000 - val_loss: 0.6887 - val_accuracy: 1.0000\n",
            "Epoch 57/100\n",
            "1/1 [==============================] - 0s 139ms/step - loss: 0.6887 - accuracy: 1.0000 - val_loss: 0.6885 - val_accuracy: 1.0000\n",
            "Epoch 58/100\n",
            "1/1 [==============================] - 0s 119ms/step - loss: 0.6885 - accuracy: 1.0000 - val_loss: 0.6886 - val_accuracy: 1.0000\n",
            "Epoch 59/100\n",
            "1/1 [==============================] - 0s 109ms/step - loss: 0.6882 - accuracy: 1.0000 - val_loss: 0.6884 - val_accuracy: 1.0000\n",
            "Epoch 60/100\n",
            "1/1 [==============================] - 0s 134ms/step - loss: 0.6880 - accuracy: 1.0000 - val_loss: 0.6879 - val_accuracy: 1.0000\n",
            "Epoch 61/100\n",
            "1/1 [==============================] - 0s 145ms/step - loss: 0.6877 - accuracy: 1.0000 - val_loss: 0.6880 - val_accuracy: 1.0000\n",
            "Epoch 62/100\n",
            "1/1 [==============================] - 0s 112ms/step - loss: 0.6875 - accuracy: 1.0000 - val_loss: 0.6876 - val_accuracy: 1.0000\n",
            "Epoch 63/100\n",
            "1/1 [==============================] - 0s 142ms/step - loss: 0.6874 - accuracy: 1.0000 - val_loss: 0.6874 - val_accuracy: 1.0000\n",
            "Epoch 64/100\n",
            "1/1 [==============================] - 0s 112ms/step - loss: 0.6872 - accuracy: 1.0000 - val_loss: 0.6871 - val_accuracy: 1.0000\n",
            "Epoch 65/100\n",
            "1/1 [==============================] - 0s 129ms/step - loss: 0.6871 - accuracy: 1.0000 - val_loss: 0.6869 - val_accuracy: 1.0000\n",
            "Epoch 66/100\n",
            "1/1 [==============================] - 0s 113ms/step - loss: 0.6867 - accuracy: 1.0000 - val_loss: 0.6870 - val_accuracy: 1.0000\n",
            "Epoch 67/100\n",
            "1/1 [==============================] - 0s 139ms/step - loss: 0.6867 - accuracy: 1.0000 - val_loss: 0.6868 - val_accuracy: 1.0000\n",
            "Epoch 68/100\n",
            "1/1 [==============================] - 0s 112ms/step - loss: 0.6864 - accuracy: 1.0000 - val_loss: 0.6866 - val_accuracy: 1.0000\n",
            "Epoch 69/100\n",
            "1/1 [==============================] - 0s 135ms/step - loss: 0.6861 - accuracy: 1.0000 - val_loss: 0.6862 - val_accuracy: 1.0000\n",
            "Epoch 70/100\n",
            "1/1 [==============================] - 0s 108ms/step - loss: 0.6860 - accuracy: 1.0000 - val_loss: 0.6859 - val_accuracy: 1.0000\n",
            "Epoch 71/100\n",
            "1/1 [==============================] - 0s 130ms/step - loss: 0.6858 - accuracy: 1.0000 - val_loss: 0.6860 - val_accuracy: 1.0000\n",
            "Epoch 72/100\n",
            "1/1 [==============================] - 0s 148ms/step - loss: 0.6857 - accuracy: 1.0000 - val_loss: 0.6855 - val_accuracy: 1.0000\n",
            "Epoch 73/100\n",
            "1/1 [==============================] - 0s 111ms/step - loss: 0.6854 - accuracy: 1.0000 - val_loss: 0.6854 - val_accuracy: 1.0000\n",
            "Epoch 74/100\n",
            "1/1 [==============================] - 0s 141ms/step - loss: 0.6853 - accuracy: 1.0000 - val_loss: 0.6852 - val_accuracy: 1.0000\n",
            "Epoch 75/100\n",
            "1/1 [==============================] - 0s 108ms/step - loss: 0.6850 - accuracy: 1.0000 - val_loss: 0.6850 - val_accuracy: 1.0000\n",
            "Epoch 76/100\n",
            "1/1 [==============================] - 0s 144ms/step - loss: 0.6847 - accuracy: 1.0000 - val_loss: 0.6850 - val_accuracy: 1.0000\n",
            "Epoch 77/100\n",
            "1/1 [==============================] - 0s 111ms/step - loss: 0.6845 - accuracy: 1.0000 - val_loss: 0.6846 - val_accuracy: 1.0000\n",
            "Epoch 78/100\n",
            "1/1 [==============================] - 0s 149ms/step - loss: 0.6843 - accuracy: 1.0000 - val_loss: 0.6846 - val_accuracy: 1.0000\n",
            "Epoch 79/100\n",
            "1/1 [==============================] - 0s 125ms/step - loss: 0.6842 - accuracy: 1.0000 - val_loss: 0.6842 - val_accuracy: 1.0000\n",
            "Epoch 80/100\n",
            "1/1 [==============================] - 0s 118ms/step - loss: 0.6841 - accuracy: 1.0000 - val_loss: 0.6842 - val_accuracy: 1.0000\n",
            "Epoch 81/100\n",
            "1/1 [==============================] - 0s 111ms/step - loss: 0.6838 - accuracy: 1.0000 - val_loss: 0.6840 - val_accuracy: 1.0000\n",
            "Epoch 82/100\n",
            "1/1 [==============================] - 0s 109ms/step - loss: 0.6837 - accuracy: 1.0000 - val_loss: 0.6836 - val_accuracy: 1.0000\n",
            "Epoch 83/100\n",
            "1/1 [==============================] - 0s 143ms/step - loss: 0.6835 - accuracy: 1.0000 - val_loss: 0.6834 - val_accuracy: 1.0000\n",
            "Epoch 84/100\n",
            "1/1 [==============================] - 0s 139ms/step - loss: 0.6832 - accuracy: 1.0000 - val_loss: 0.6834 - val_accuracy: 1.0000\n",
            "Epoch 85/100\n",
            "1/1 [==============================] - 0s 109ms/step - loss: 0.6831 - accuracy: 1.0000 - val_loss: 0.6832 - val_accuracy: 1.0000\n",
            "Epoch 86/100\n",
            "1/1 [==============================] - 0s 130ms/step - loss: 0.6829 - accuracy: 1.0000 - val_loss: 0.6830 - val_accuracy: 1.0000\n",
            "Epoch 87/100\n",
            "1/1 [==============================] - 0s 143ms/step - loss: 0.6827 - accuracy: 1.0000 - val_loss: 0.6828 - val_accuracy: 1.0000\n",
            "Epoch 88/100\n",
            "1/1 [==============================] - 0s 112ms/step - loss: 0.6825 - accuracy: 1.0000 - val_loss: 0.6824 - val_accuracy: 1.0000\n",
            "Epoch 89/100\n",
            "1/1 [==============================] - 0s 150ms/step - loss: 0.6822 - accuracy: 1.0000 - val_loss: 0.6824 - val_accuracy: 1.0000\n",
            "Epoch 90/100\n",
            "1/1 [==============================] - 0s 105ms/step - loss: 0.6821 - accuracy: 1.0000 - val_loss: 0.6820 - val_accuracy: 1.0000\n",
            "Epoch 91/100\n",
            "1/1 [==============================] - 0s 126ms/step - loss: 0.6819 - accuracy: 1.0000 - val_loss: 0.6820 - val_accuracy: 1.0000\n",
            "Epoch 92/100\n",
            "1/1 [==============================] - 0s 110ms/step - loss: 0.6816 - accuracy: 1.0000 - val_loss: 0.6816 - val_accuracy: 1.0000\n",
            "Epoch 93/100\n",
            "1/1 [==============================] - 0s 149ms/step - loss: 0.6814 - accuracy: 1.0000 - val_loss: 0.6816 - val_accuracy: 1.0000\n",
            "Epoch 94/100\n",
            "1/1 [==============================] - 0s 107ms/step - loss: 0.6813 - accuracy: 1.0000 - val_loss: 0.6814 - val_accuracy: 1.0000\n",
            "Epoch 95/100\n",
            "1/1 [==============================] - 0s 117ms/step - loss: 0.6810 - accuracy: 1.0000 - val_loss: 0.6812 - val_accuracy: 1.0000\n",
            "Epoch 96/100\n",
            "1/1 [==============================] - 0s 115ms/step - loss: 0.6808 - accuracy: 1.0000 - val_loss: 0.6810 - val_accuracy: 1.0000\n",
            "Epoch 97/100\n",
            "1/1 [==============================] - 0s 108ms/step - loss: 0.6808 - accuracy: 1.0000 - val_loss: 0.6806 - val_accuracy: 1.0000\n",
            "Epoch 98/100\n",
            "1/1 [==============================] - 0s 110ms/step - loss: 0.6806 - accuracy: 1.0000 - val_loss: 0.6804 - val_accuracy: 1.0000\n",
            "Epoch 99/100\n",
            "1/1 [==============================] - 0s 130ms/step - loss: 0.6803 - accuracy: 1.0000 - val_loss: 0.6802 - val_accuracy: 1.0000\n",
            "Epoch 100/100\n",
            "1/1 [==============================] - 0s 135ms/step - loss: 0.6801 - accuracy: 1.0000 - val_loss: 0.6800 - val_accuracy: 1.0000\n"
          ],
          "name": "stdout"
        }
      ]
    },
    {
      "cell_type": "code",
      "metadata": {
        "id": "1DRumR1WYehb",
        "colab_type": "code",
        "outputId": "d2a35b9c-b799-4c6b-a1b6-b78d050f2dd1",
        "colab": {
          "base_uri": "https://localhost:8080/",
          "height": 499
        }
      },
      "source": [
        "acc = history.history['accuracy']\n",
        "val_acc = history.history['val_accuracy']\n",
        "\n",
        "loss = history.history['loss']\n",
        "val_loss = history.history['val_loss']\n",
        "\n",
        "epochs_range = range(epochs)\n",
        "\n",
        "plt.figure(figsize=(8, 8))\n",
        "plt.subplot(1, 2, 1)\n",
        "plt.plot(epochs_range, acc, label='Training Accuracy')\n",
        "plt.plot(epochs_range, val_acc, label='Validation Accuracy')\n",
        "plt.legend(loc='lower right')\n",
        "plt.title('Training and Validation Accuracy')\n",
        "\n",
        "plt.subplot(1, 2, 2)\n",
        "plt.plot(epochs_range, loss, label='Training Loss')\n",
        "plt.plot(epochs_range, val_loss, label='Validation Loss')\n",
        "plt.legend(loc='upper right')\n",
        "plt.title('Training and Validation Loss')\n",
        "plt.show()"
      ],
      "execution_count": 19,
      "outputs": [
        {
          "output_type": "display_data",
          "data": {
            "image/png": "[encoded data removed]",
            "text/plain": [
              "<Figure size 576x576 with 2 Axes>"
            ]
          },
          "metadata": {
            "tags": [],
            "needs_background": "light"
          }
        }
      ]
    },
    {
      "cell_type": "code",
      "metadata": {
        "id": "gATxbHXBV6eP",
        "colab_type": "code",
        "colab": {}
      },
      "source": [
        ""
      ],
      "execution_count": 0,
      "outputs": []
    }
  ]
}