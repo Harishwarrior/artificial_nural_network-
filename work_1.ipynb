{
  "nbformat": 4,
  "nbformat_minor": 0,
  "metadata": {
    "colab": {
      "name": "work_1.ipynb",
      "provenance": [],
      "mount_file_id": "16iwbk_m1qRBVf1OYRG2P08Cp-b4t4L23",
      "authorship_tag": "ABX9TyOmIKvXgJFwVKAP7MV38Xdf",
      "include_colab_link": true
    },
    "kernelspec": {
      "name": "python3",
      "display_name": "Python 3"
    },
    "accelerator": "GPU"
  },
  "cells": [
    {
      "cell_type": "markdown",
      "metadata": {
        "id": "view-in-github",
        "colab_type": "text"
      },
      "source": [
        "<a href=\"https://colab.research.google.com/github/praveenmarish/artificial_nural_network-/blob/master/work_1.ipynb\" target=\"_parent\"><img src=\"https://colab.research.google.com/assets/colab-badge.svg\" alt=\"Open In Colab\"/></a>"
      ]
    },
    {
      "cell_type": "code",
      "metadata": {
        "id": "blvebtFDj5gh",
        "colab_type": "code",
        "colab": {}
      },
      "source": [
        "import keras\n",
        "import numpy as np\n",
        "import matplotlib.pyplot as plt\n",
        "from PIL import Image"
      ],
      "execution_count": 0,
      "outputs": []
    },
    {
      "cell_type": "code",
      "metadata": {
        "id": "HqeHBnqGk05e",
        "colab_type": "code",
        "colab": {}
      },
      "source": [
        "!ls\n",
        "%cd drive/My\\ Drive/project/Camera\\ Roll/"
      ],
      "execution_count": 0,
      "outputs": []
    },
    {
      "cell_type": "code",
      "metadata": {
        "id": "TxkXtdJSk56g",
        "colab_type": "code",
        "colab": {}
      },
      "source": [
        "!ls"
      ],
      "execution_count": 0,
      "outputs": []
    },
    {
      "cell_type": "code",
      "metadata": {
        "id": "hZiyUfP1k6wb",
        "colab_type": "code",
        "colab": {}
      },
      "source": [
        "train_dir='train'\n",
        "test_dir='validate'\n",
        "BATCH_SIZE=100\n",
        "IMG_SHAPE  = 224"
      ],
      "execution_count": 0,
      "outputs": []
    },
    {
      "cell_type": "code",
      "metadata": {
        "id": "DWoIAcq8k88z",
        "colab_type": "code",
        "colab": {}
      },
      "source": [
        "image_gen = keras.preprocessing.image.ImageDataGenerator(rescale=1./255,\n",
        "                                                         horizontal_flip=True,\n",
        "                                                         rotation_range=45,\n",
        "                                                         width_shift_range=.15,\n",
        "                                                         height_shift_range=.15,\n",
        "                                                         zoom_range=0.5)\n",
        "\n",
        "train_data_gen = image_gen.flow_from_directory(batch_size=BATCH_SIZE,\n",
        "                                               directory=train_dir,\n",
        "                                               shuffle=True,\n",
        "                                               target_size=(IMG_SHAPE,IMG_SHAPE),\n",
        "                                               class_mode='sparse')"
      ],
      "execution_count": 0,
      "outputs": []
    },
    {
      "cell_type": "code",
      "metadata": {
        "id": "w8ChJQqfk_p2",
        "colab_type": "code",
        "colab": {}
      },
      "source": [
        "image_gen_val = keras.preprocessing.image.ImageDataGenerator(rescale=1./255)\n",
        "\n",
        "validate_data_gen=image_gen.flow_from_directory(batch_size=BATCH_SIZE,\n",
        "                                                directory=test_dir,\n",
        "                                                shuffle=True,\n",
        "                                                target_size=(IMG_SHAPE,IMG_SHAPE),\n",
        "                                                class_mode='sparse')"
      ],
      "execution_count": 0,
      "outputs": []
    },
    {
      "cell_type": "code",
      "metadata": {
        "id": "RI-F8VKNoZex",
        "colab_type": "code",
        "colab": {}
      },
      "source": [
        "total_train=7\n",
        "total_validate=3"
      ],
      "execution_count": 0,
      "outputs": []
    },
    {
      "cell_type": "code",
      "metadata": {
        "id": "WRHTzaO57jt4",
        "colab_type": "code",
        "colab": {}
      },
      "source": [
        "model_2 = keras.models.Sequential()\n",
        "\n",
        "model_2.add(keras.layers.Conv2D(16, 3, padding='same', activation='relu', input_shape=(IMG_SHAPE,IMG_SHAPE, 3)))\n",
        "model_2.add(keras.layers.MaxPooling2D(pool_size=(2, 2)))\n",
        "\n",
        "model_2.add(keras.layers.Conv2D(32, 3, padding='same', activation='relu'))\n",
        "model_2.add(keras.layers.MaxPooling2D(pool_size=(2, 2)))\n",
        "\n",
        "model_2.add(keras.layers.Conv2D(64, 3, padding='same', activation='relu'))\n",
        "model_2.add(keras.layers.MaxPooling2D(pool_size=(2, 2)))\n",
        "\n",
        "model_2.add(keras.layers.Flatten())\n",
        "model_2.add(keras.layers.Dropout(0.2))\n",
        "model_2.add(keras.layers.Dense(512, activation='relu'))\n",
        "\n",
        "model_2.add(keras.layers.Dropout(0.2))\n",
        "model_2.add(keras.layers.Dense(2))"
      ],
      "execution_count": 0,
      "outputs": []
    },
    {
      "cell_type": "code",
      "metadata": {
        "id": "JZl-L1Dz8QIK",
        "colab_type": "code",
        "colab": {}
      },
      "source": [
        "model_2.compile(optimizer='adam',\n",
        "              loss=keras.losses.SparseCategoricalCrossentropy(from_logits=True),\n",
        "              metrics=['accuracy'])"
      ],
      "execution_count": 0,
      "outputs": []
    },
    {
      "cell_type": "code",
      "metadata": {
        "id": "J97-LPIilC1e",
        "colab_type": "code",
        "colab": {}
      },
      "source": [
        "epochs=40\n",
        "history = model_2.fit_generator(\n",
        "    train_data_gen,\n",
        "    steps_per_epoch=int(np.ceil(total_train / float(BATCH_SIZE))),\n",
        "    epochs=epochs,\n",
        "    validation_data=validate_data_gen,\n",
        "    validation_steps=int(np.ceil(total_validate / float(BATCH_SIZE)))\n",
        ")"
      ],
      "execution_count": 0,
      "outputs": []
    },
    {
      "cell_type": "code",
      "metadata": {
        "id": "DUZyhwXhlJKY",
        "colab_type": "code",
        "colab": {}
      },
      "source": [
        "acc = history.history['accuracy']\n",
        "val_acc = history.history['val_accuracy']\n",
        "\n",
        "loss = history.history['loss']\n",
        "val_loss = history.history['val_loss']\n",
        "\n",
        "epochs_range = range(epochs)\n",
        "\n",
        "plt.figure(figsize=(8, 8))\n",
        "plt.subplot(1, 2, 1)\n",
        "plt.plot(epochs_range, acc, label='Training Accuracy')\n",
        "plt.plot(epochs_range, val_acc, label='Validation Accuracy')\n",
        "plt.legend(loc='lower right')\n",
        "plt.title('Training and Validation Accuracy')\n",
        "\n",
        "plt.subplot(1, 2, 2)\n",
        "plt.plot(epochs_range, loss, label='Training Loss')\n",
        "plt.plot(epochs_range, val_loss, label='Validation Loss')\n",
        "plt.legend(loc='upper right')\n",
        "plt.title('Training and Validation Loss')\n",
        "plt.show()"
      ],
      "execution_count": 0,
      "outputs": []
    },
    {
      "cell_type": "code",
      "metadata": {
        "id": "Okxv3xjLpeIi",
        "colab_type": "code",
        "colab": {}
      },
      "source": [
        "!ls\n",
        "result=None"
      ],
      "execution_count": 0,
      "outputs": []
    },
    {
      "cell_type": "code",
      "metadata": {
        "id": "OYDXpav9py5s",
        "colab_type": "code",
        "colab": {}
      },
      "source": [
        "test = image_gen.flow_from_directory(directory=\"test\",\n",
        "                                     batch_size=BATCH_SIZE,\n",
        "                                     target_size=(IMG_SHAPE,IMG_SHAPE))"
      ],
      "execution_count": 0,
      "outputs": []
    },
    {
      "cell_type": "code",
      "metadata": {
        "id": "fTJ4EmLdp1eq",
        "colab_type": "code",
        "colab": {}
      },
      "source": [
        "result=model_1.predict(test)"
      ],
      "execution_count": 0,
      "outputs": []
    },
    {
      "cell_type": "code",
      "metadata": {
        "id": "BizqwPBsp4F5",
        "colab_type": "code",
        "colab": {}
      },
      "source": [
        "print(result)"
      ],
      "execution_count": 0,
      "outputs": []
    },
    {
      "cell_type": "code",
      "metadata": {
        "id": "0mIeMz5G917K",
        "colab_type": "code",
        "colab": {}
      },
      "source": [
        "print(test)\n",
        "plt.plot(test)"
      ],
      "execution_count": 0,
      "outputs": []
    },
    {
      "cell_type": "code",
      "metadata": {
        "id": "ly3tia4z_b1u",
        "colab_type": "code",
        "colab": {}
      },
      "source": [
        "!ls"
      ],
      "execution_count": 0,
      "outputs": []
    },
    {
      "cell_type": "code",
      "metadata": {
        "id": "AnMwrSsK_eK8",
        "colab_type": "code",
        "colab": {}
      },
      "source": [
        "%cd train/marish/"
      ],
      "execution_count": 0,
      "outputs": []
    },
    {
      "cell_type": "code",
      "metadata": {
        "id": "3DBKpaTj_joP",
        "colab_type": "code",
        "colab": {}
      },
      "source": [
        "!ls"
      ],
      "execution_count": 0,
      "outputs": []
    },
    {
      "cell_type": "code",
      "metadata": {
        "id": "wlH5BmHJ-ZOR",
        "colab_type": "code",
        "colab": {}
      },
      "source": [
        "image=Image.open(\"WIN_20200514_12_02_24_Pro.jpg\")"
      ],
      "execution_count": 0,
      "outputs": []
    },
    {
      "cell_type": "code",
      "metadata": {
        "id": "RUJ1p5MwCfNe",
        "colab_type": "code",
        "colab": {}
      },
      "source": [
        "imsize=(224,224)\n",
        "image=image.resize(imsize)"
      ],
      "execution_count": 0,
      "outputs": []
    },
    {
      "cell_type": "code",
      "metadata": {
        "id": "AbTFPyNKC_yJ",
        "colab_type": "code",
        "colab": {}
      },
      "source": [
        "image=keras.preprocessing.image.img_to_array(image)"
      ],
      "execution_count": 0,
      "outputs": []
    },
    {
      "cell_type": "code",
      "metadata": {
        "id": "4nfmfUwBDuWD",
        "colab_type": "code",
        "colab": {}
      },
      "source": [
        "image=np.expand_dims(image,axis=0)"
      ],
      "execution_count": 0,
      "outputs": []
    },
    {
      "cell_type": "code",
      "metadata": {
        "id": "nIydkaW8D_SN",
        "colab_type": "code",
        "colab": {}
      },
      "source": [
        "result=model_2.predict(image)"
      ],
      "execution_count": 0,
      "outputs": []
    },
    {
      "cell_type": "code",
      "metadata": {
        "id": "SMnzb5YWEIjE",
        "colab_type": "code",
        "colab": {}
      },
      "source": [
        "print(result)"
      ],
      "execution_count": 0,
      "outputs": []
    },
    {
      "cell_type": "code",
      "metadata": {
        "id": "XrnFz3DOEPdk",
        "colab_type": "code",
        "colab": {}
      },
      "source": [
        "result[0]"
      ],
      "execution_count": 0,
      "outputs": []
    }
  ]
}